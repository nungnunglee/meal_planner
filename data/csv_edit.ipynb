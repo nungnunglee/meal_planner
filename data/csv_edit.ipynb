{
 "cells": [
  {
   "cell_type": "code",
   "execution_count": 5,
   "id": "539ccdaf",
   "metadata": {},
   "outputs": [
    {
     "name": "stdout",
     "output_type": "stream",
     "text": [
      "'C:\\Users\\lkw45\\PycharmProjects\\food_scheduler\\data\\foods\\combine_data.csv' 파일 읽기 시작...\n"
     ]
    },
    {
     "name": "stderr",
     "output_type": "stream",
     "text": [
      "C:\\Users\\lkw45\\AppData\\Local\\Temp\\ipykernel_16500\\1157545094.py:13: DtypeWarning: Columns (12,16,19,20,21,22,23,31,32) have mixed types. Specify dtype option on import or set low_memory=False.\n",
      "  df = pd.read_csv(input_csv_path, encoding='utf-8')\n"
     ]
    },
    {
     "name": "stdout",
     "output_type": "stream",
     "text": [
      "원본 데이터 크기: 166248 행\n",
      "중복 제거 후 데이터 크기: 148032 행\n",
      "중복 제거된 데이터를 'C:\\Users\\lkw45\\PycharmProjects\\food_scheduler\\data\\foods\\combine_data_cleaned.csv'에 저장 완료.\n"
     ]
    }
   ],
   "source": [
    "import pandas as pd\n",
    "\n",
    "def remove_duplicates_and_save(input_csv_path, output_csv_path):\n",
    "    \"\"\"\n",
    "    CSV 파일을 읽어 'food_name'과 'food_id'를 기준으로 중복을 제거하고,\n",
    "    결과를 새로운 CSV 파일로 저장합니다.\n",
    "\n",
    "    Args:\n",
    "        input_csv_path (str): 원본 CSV 파일 경로.\n",
    "        output_csv_path (str): 중복 제거 후 저장할 CSV 파일 경로.\n",
    "    \"\"\"\n",
    "    print(f\"'{input_csv_path}' 파일 읽기 시작...\")\n",
    "    df = pd.read_csv(input_csv_path, encoding='utf-8')\n",
    "    print(f\"원본 데이터 크기: {len(df)} 행\")\n",
    "\n",
    "    # 'food_name'과 'food_id' 기준으로 중복 제거\n",
    "    # 'food_name'이 동일해도 'food_id'가 다를 수 있으므로 두 컬럼 모두를 기준으로 합니다.\n",
    "    # keep='first'는 중복된 경우 첫 번째 항목을 유지합니다.\n",
    "    df_cleaned = df.drop_duplicates(subset=['food_name'], keep='first')\n",
    "    df_cleaned = df_cleaned.drop_duplicates(subset=['food_id'], keep='first')\n",
    "    print(f\"중복 제거 후 데이터 크기: {len(df_cleaned)} 행\")\n",
    "\n",
    "    # 새로운 CSV 파일로 저장\n",
    "    df_cleaned.to_csv(output_csv_path, index=False, encoding='utf-8')\n",
    "    print(f\"중복 제거된 데이터를 '{output_csv_path}'에 저장 완료.\")\n",
    "\n",
    "# 사용 예시 (아래 경로를 실제 파일 경로로 수정하세요)\n",
    "input_file = r\"C:\\Users\\lkw45\\PycharmProjects\\food_scheduler\\data\\foods\\combine_data.csv\"\n",
    "output_file = r\"C:\\Users\\lkw45\\PycharmProjects\\food_scheduler\\data\\foods\\combine_data_cleaned.csv\"\n",
    "\n",
    "remove_duplicates_and_save(input_file, output_file)\n"
   ]
  },
  {
   "cell_type": "markdown",
   "id": "b5ebc2474ba0eae2",
   "metadata": {},
   "source": [
    "## 파일이 너무 크면 pandas로 읽어 지지 않음\n",
    "## 모두 csv로 바꾼 후 laod\n",
    "## 컬럼 많은 파일 합치기"
   ]
  },
  {
   "cell_type": "markdown",
   "id": "aa6e89f17f520b3",
   "metadata": {},
   "source": [
    "## 하지만 카테고리 라벨이 없어서 로컬 LLM (Gemma3)를 사용하여 카테고리를 라벨링 하기로 결정!!"
   ]
  },
  {
   "cell_type": "markdown",
   "id": "5a1f2bec8cb04ee3",
   "metadata": {},
   "source": [
    "### DB 해야할 거\n",
    "1. 음식 테이블의 스키마 정하기\n",
    "2. 카테고리 LLM으로 채워넣기 (not null)\n",
    "3. table 관계 짜서 mysql에 넣기\n",
    "4. 입출력 코드 일반화\n",
    "5. 서버와 연결"
   ]
  },
  {
   "cell_type": "markdown",
   "id": "ad76c820",
   "metadata": {},
   "source": [
    "### 사용할 컬럼만 추려서 저장해둔 all_column.csv로 컬럼 가져오기"
   ]
  },
  {
   "cell_type": "code",
   "execution_count": 1,
   "id": "initial_id",
   "metadata": {
    "ExecuteTime": {
     "end_time": "2025-04-28T10:18:19.918524Z",
     "start_time": "2025-04-28T10:18:18.087526Z"
    }
   },
   "outputs": [],
   "source": [
    "import pandas as pd\n",
    "import os"
   ]
  },
  {
   "cell_type": "code",
   "execution_count": 2,
   "id": "c8be622d7f281c05",
   "metadata": {
    "ExecuteTime": {
     "end_time": "2025-04-28T10:24:25.717870Z",
     "start_time": "2025-04-28T10:24:25.693871Z"
    }
   },
   "outputs": [],
   "source": [
    "all_columns_df = pd.read_csv(\"all_column.csv\", encoding=\"utf-8-sig\")"
   ]
  },
  {
   "cell_type": "code",
   "execution_count": 3,
   "id": "5982a57dd2cb375a",
   "metadata": {
    "ExecuteTime": {
     "end_time": "2025-04-28T10:24:25.875870Z",
     "start_time": "2025-04-28T10:24:25.858871Z"
    }
   },
   "outputs": [],
   "source": [
    "my_columns = all_columns_df.csv_name.dropna().to_list()"
   ]
  },
  {
   "cell_type": "code",
   "execution_count": 4,
   "id": "ac90a129715c7548",
   "metadata": {
    "ExecuteTime": {
     "end_time": "2025-04-28T10:25:17.723411Z",
     "start_time": "2025-04-28T10:25:17.703414Z"
    }
   },
   "outputs": [
    {
     "name": "stdout",
     "output_type": "stream",
     "text": [
      "<class 'pandas.core.frame.DataFrame'>\n",
      "RangeIndex: 0 entries\n",
      "Data columns (total 57 columns):\n",
      " #   Column        Non-Null Count  Dtype \n",
      "---  ------        --------------  ----- \n",
      " 0   식품코드          0 non-null      object\n",
      " 1   식품명           0 non-null      object\n",
      " 2   데이터구분코드       0 non-null      object\n",
      " 3   데이터구분명        0 non-null      object\n",
      " 4   식품기원코드        0 non-null      object\n",
      " 5   식품기원명         0 non-null      object\n",
      " 6   식품대분류코드       0 non-null      object\n",
      " 7   식품대분류명        0 non-null      object\n",
      " 8   대표식품코드        0 non-null      object\n",
      " 9   대표식품명         0 non-null      object\n",
      " 10  식품중분류코드       0 non-null      object\n",
      " 11  식품중분류명        0 non-null      object\n",
      " 12  식품소분류코드       0 non-null      object\n",
      " 13  식품소분류명        0 non-null      object\n",
      " 14  식품세분류코드       0 non-null      object\n",
      " 15  식품세분류명        0 non-null      object\n",
      " 16  출처코드          0 non-null      object\n",
      " 17  출처명           0 non-null      object\n",
      " 18  품목제조보고번호      0 non-null      object\n",
      " 19  업체명           0 non-null      object\n",
      " 20  제조사명          0 non-null      object\n",
      " 21  수입업체명         0 non-null      object\n",
      " 22  유통업체명         0 non-null      object\n",
      " 23  수입여부          0 non-null      object\n",
      " 24  원산지국코드        0 non-null      object\n",
      " 25  원산지국명         0 non-null      object\n",
      " 26  데이터생성방법코드     0 non-null      object\n",
      " 27  데이터생성방법명      0 non-null      object\n",
      " 28  데이터기준일자       0 non-null      object\n",
      " 29  폐기율(%)        0 non-null      object\n",
      " 30  식품중량          0 non-null      object\n",
      " 31  1회 섭취참고량      0 non-null      object\n",
      " 32  영양성분함량기준량     0 non-null      object\n",
      " 33  에너지(kcal)     0 non-null      object\n",
      " 34  수분(g)         0 non-null      object\n",
      " 35  단백질(g)        0 non-null      object\n",
      " 36  지방(g)         0 non-null      object\n",
      " 37  회분(g)         0 non-null      object\n",
      " 38  탄수화물(g)       0 non-null      object\n",
      " 39  당류(g)         0 non-null      object\n",
      " 40  식이섬유(g)       0 non-null      object\n",
      " 41  칼슘(mg)        0 non-null      object\n",
      " 42  철(mg)         0 non-null      object\n",
      " 43  인(mg)         0 non-null      object\n",
      " 44  칼륨(mg)        0 non-null      object\n",
      " 45  나트륨(mg)       0 non-null      object\n",
      " 46  비타민A(μg RAE)  0 non-null      object\n",
      " 47  레티놀(μg)       0 non-null      object\n",
      " 48  베타카로틴(μg)     0 non-null      object\n",
      " 49  티아민(mg)       0 non-null      object\n",
      " 50  리보플라빈(mg)     0 non-null      object\n",
      " 51  니아신(mg)       0 non-null      object\n",
      " 52  비타민 C(mg)     0 non-null      object\n",
      " 53  비타민 D(μg)     0 non-null      object\n",
      " 54  콜레스테롤(mg)     0 non-null      object\n",
      " 55  포화지방산(g)      0 non-null      object\n",
      " 56  트랜스지방산(g)     0 non-null      object\n",
      "dtypes: object(57)\n",
      "memory usage: 132.0+ bytes\n"
     ]
    }
   ],
   "source": [
    "all_df = pd.DataFrame(columns=my_columns)\n",
    "all_df.info()"
   ]
  },
  {
   "cell_type": "markdown",
   "id": "a369bb53",
   "metadata": {},
   "source": [
    "### 원본 데이터들에서 원하는 컬럼만 가져와 병합"
   ]
  },
  {
   "cell_type": "code",
   "execution_count": 23,
   "id": "2fc968a7c57de4f6",
   "metadata": {
    "ExecuteTime": {
     "end_time": "2025-04-28T10:25:21.955726Z",
     "start_time": "2025-04-28T10:25:21.950727Z"
    }
   },
   "outputs": [],
   "source": [
    "file_dir = \"source\"\n",
    "\n",
    "file_list = [table_file for table_file in os.listdir(file_dir) if table_file.endswith(\".csv\")]"
   ]
  },
  {
   "cell_type": "code",
   "execution_count": 24,
   "id": "708c673e90be0567",
   "metadata": {
    "ExecuteTime": {
     "end_time": "2025-04-28T10:27:46.693683Z",
     "start_time": "2025-04-28T10:25:32.883039Z"
    }
   },
   "outputs": [],
   "source": [
    "for file in file_list:\n",
    "    for chunk in pd.read_csv(str(os.path.join(file_dir, file)), chunksize=5000, encoding=\"utf-8-sig\", dtype='object'):\n",
    "      all_df = pd.concat([all_df, chunk.reindex(columns=my_columns)], ignore_index=True)"
   ]
  },
  {
   "cell_type": "code",
   "execution_count": 25,
   "id": "bc1b650eb5034aaf",
   "metadata": {
    "ExecuteTime": {
     "end_time": "2025-04-28T10:29:02.587125Z",
     "start_time": "2025-04-28T10:29:01.540079Z"
    }
   },
   "outputs": [
    {
     "name": "stdout",
     "output_type": "stream",
     "text": [
      "<class 'pandas.core.frame.DataFrame'>\n",
      "RangeIndex: 613309 entries, 0 to 613308\n",
      "Data columns (total 59 columns):\n",
      " #   Column        Non-Null Count   Dtype \n",
      "---  ------        --------------   ----- \n",
      " 0   식품코드          613309 non-null  object\n",
      " 1   식품명           613309 non-null  object\n",
      " 2   데이터구분코드       613309 non-null  object\n",
      " 3   데이터구분명        613309 non-null  object\n",
      " 4   식품기원코드        397071 non-null  object\n",
      " 5   식품기원명         397071 non-null  object\n",
      " 6   식품대분류코드       397071 non-null  object\n",
      " 7   식품대분류명        397071 non-null  object\n",
      " 8   대표식품코드        397071 non-null  object\n",
      " 9   대표식품명         397071 non-null  object\n",
      " 10  식품중분류코드       397071 non-null  object\n",
      " 11  식품중분류명        397071 non-null  object\n",
      " 12  식품소분류코드       397071 non-null  object\n",
      " 13  식품소분류명        397071 non-null  object\n",
      " 14  식품세분류코드       397071 non-null  object\n",
      " 15  식품세분류명        397071 non-null  object\n",
      " 16  출처코드          613309 non-null  object\n",
      " 17  출처명           613309 non-null  object\n",
      " 18  품목제조보고번호      494246 non-null  object\n",
      " 19  업체명           79236 non-null   object\n",
      " 20  제조사명          532165 non-null  object\n",
      " 21  수입업체명         532165 non-null  object\n",
      " 22  유통업체명         532165 non-null  object\n",
      " 23  수입여부          539497 non-null  object\n",
      " 24  원산지국코드        41503 non-null   object\n",
      " 25  원산지국명         539497 non-null  object\n",
      " 26  데이터생성방법코드     613309 non-null  object\n",
      " 27  데이터생성방법명      613309 non-null  object\n",
      " 28  데이터기준일자       613309 non-null  object\n",
      " 29  제공기관코드        118250 non-null  object\n",
      " 30  제공기관명         118250 non-null  object\n",
      " 31  폐기율(%)        7242 non-null    object\n",
      " 32  식품중량          598869 non-null  object\n",
      " 33  1회 섭취참고량      288471 non-null  object\n",
      " 34  영양성분함량기준량     613309 non-null  object\n",
      " 35  에너지(kcal)     613309 non-null  object\n",
      " 36  수분(g)         35354 non-null   object\n",
      " 37  단백질(g)        613298 non-null  object\n",
      " 38  지방(g)         568457 non-null  object\n",
      " 39  회분(g)         19541 non-null   object\n",
      " 40  탄수화물(g)       570998 non-null  object\n",
      " 41  당류(g)         606319 non-null  object\n",
      " 42  식이섬유(g)       40358 non-null   object\n",
      " 43  칼슘(mg)        44782 non-null   object\n",
      " 44  철(mg)         38760 non-null   object\n",
      " 45  인(mg)         33524 non-null   object\n",
      " 46  칼륨(mg)        34050 non-null   object\n",
      " 47  나트륨(mg)       607805 non-null  object\n",
      " 48  비타민A(μg RAE)  1448 non-null    object\n",
      " 49  레티놀(μg)       31082 non-null   object\n",
      " 50  베타카로틴(μg)     29364 non-null   object\n",
      " 51  티아민(mg)       35061 non-null   object\n",
      " 52  리보플라빈(mg)     34982 non-null   object\n",
      " 53  니아신(mg)       34219 non-null   object\n",
      " 54  비타민 C(mg)     36216 non-null   object\n",
      " 55  비타민 D(μg)     29991 non-null   object\n",
      " 56  콜레스테롤(mg)     560956 non-null  object\n",
      " 57  포화지방산(g)      604791 non-null  object\n",
      " 58  트랜스지방산(g)     543092 non-null  object\n",
      "dtypes: object(59)\n",
      "memory usage: 276.1+ MB\n"
     ]
    }
   ],
   "source": [
    "all_df.info()"
   ]
  },
  {
   "cell_type": "markdown",
   "id": "1652eb3b",
   "metadata": {},
   "source": [
    "### 식품 코드 중복 제거"
   ]
  },
  {
   "cell_type": "code",
   "execution_count": 26,
   "id": "becb54b03a55fcc0",
   "metadata": {
    "ExecuteTime": {
     "end_time": "2025-04-28T10:29:12.741087Z",
     "start_time": "2025-04-28T10:29:11.391087Z"
    }
   },
   "outputs": [],
   "source": [
    "unique_fid_all_df = all_df.groupby('식품코드').first()"
   ]
  },
  {
   "cell_type": "code",
   "execution_count": 54,
   "id": "4b4da375b73908fe",
   "metadata": {
    "ExecuteTime": {
     "end_time": "2025-04-28T10:44:46.136952Z",
     "start_time": "2025-04-28T10:44:45.892954Z"
    }
   },
   "outputs": [
    {
     "name": "stdout",
     "output_type": "stream",
     "text": [
      "<class 'pandas.core.frame.DataFrame'>\n",
      "Index: 166248 entries, D101-004160000-0001 to R320-025030002-0000\n",
      "Data columns (total 58 columns):\n",
      " #   Column        Non-Null Count   Dtype \n",
      "---  ------        --------------   ----- \n",
      " 0   식품명           166248 non-null  object\n",
      " 1   데이터구분코드       166248 non-null  object\n",
      " 2   데이터구분명        166248 non-null  object\n",
      " 3   식품기원코드        166248 non-null  object\n",
      " 4   식품기원명         166248 non-null  object\n",
      " 5   식품대분류코드       166248 non-null  object\n",
      " 6   식품대분류명        166248 non-null  object\n",
      " 7   대표식품코드        166248 non-null  object\n",
      " 8   대표식품명         166248 non-null  object\n",
      " 9   식품중분류코드       166248 non-null  object\n",
      " 10  식품중분류명        166248 non-null  object\n",
      " 11  식품소분류코드       166248 non-null  object\n",
      " 12  식품소분류명        166248 non-null  object\n",
      " 13  식품세분류코드       166248 non-null  object\n",
      " 14  식품세분류명        166248 non-null  object\n",
      " 15  출처코드          166248 non-null  object\n",
      " 16  출처명           166248 non-null  object\n",
      " 17  품목제조보고번호      139968 non-null  object\n",
      " 18  업체명           18249 non-null   object\n",
      " 19  제조사명          151664 non-null  object\n",
      " 20  수입업체명         151664 non-null  object\n",
      " 21  유통업체명         151664 non-null  object\n",
      " 22  수입여부          151664 non-null  object\n",
      " 23  원산지국코드        12645 non-null   object\n",
      " 24  원산지국명         151664 non-null  object\n",
      " 25  데이터생성방법코드     166248 non-null  object\n",
      " 26  데이터생성방법명      166248 non-null  object\n",
      " 27  데이터기준일자       166248 non-null  object\n",
      " 28  제공기관코드        97833 non-null   object\n",
      " 29  제공기관명         97833 non-null   object\n",
      " 30  폐기율(%)        2127 non-null    object\n",
      " 31  식품중량          162134 non-null  object\n",
      " 32  1회 섭취참고량      126023 non-null  object\n",
      " 33  영양성분함량기준량     166248 non-null  object\n",
      " 34  에너지(kcal)     166248 non-null  object\n",
      " 35  수분(g)         8273 non-null    object\n",
      " 36  단백질(g)        166237 non-null  object\n",
      " 37  지방(g)         157428 non-null  object\n",
      " 38  회분(g)         5103 non-null    object\n",
      " 39  탄수화물(g)       157938 non-null  object\n",
      " 40  당류(g)         164303 non-null  object\n",
      " 41  식이섬유(g)       9608 non-null    object\n",
      " 42  칼슘(mg)        10589 non-null   object\n",
      " 43  철(mg)         9149 non-null    object\n",
      " 44  인(mg)         7751 non-null    object\n",
      " 45  칼륨(mg)        7896 non-null    object\n",
      " 46  나트륨(mg)       164742 non-null  object\n",
      " 47  비타민A(μg RAE)  1448 non-null    object\n",
      " 48  레티놀(μg)       7092 non-null    object\n",
      " 49  베타카로틴(μg)     6626 non-null    object\n",
      " 50  티아민(mg)       8138 non-null    object\n",
      " 51  리보플라빈(mg)     8117 non-null    object\n",
      " 52  니아신(mg)       7898 non-null    object\n",
      " 53  비타민 C(mg)     8455 non-null    object\n",
      " 54  비타민 D(μg)     6794 non-null    object\n",
      " 55  콜레스테롤(mg)     155363 non-null  object\n",
      " 56  포화지방산(g)      164004 non-null  object\n",
      " 57  트랜스지방산(g)     151719 non-null  object\n",
      "dtypes: object(58)\n",
      "memory usage: 78.9+ MB\n"
     ]
    }
   ],
   "source": [
    "unique_fid_all_df.info()"
   ]
  },
  {
   "cell_type": "code",
   "execution_count": 55,
   "id": "7e52dde06dde47b",
   "metadata": {},
   "outputs": [],
   "source": [
    "unique_fid_all_df.to_csv(\"combine_data_kr.csv\", encoding=\"utf-8-sig\")"
   ]
  },
  {
   "cell_type": "markdown",
   "id": "6b038c28",
   "metadata": {},
   "source": [
    "### 다시 읽어서 컬럼을 한국어로 저장"
   ]
  },
  {
   "cell_type": "code",
   "execution_count": 8,
   "id": "5fee079c",
   "metadata": {},
   "outputs": [],
   "source": [
    "unique_fid_all_df = all_df\n",
    "for chunk in pd.read_csv(\"combine_data_kr.csv\", chunksize=5000, encoding=\"utf-8-sig\", dtype='object'):\n",
    "      unique_fid_all_df = pd.concat([unique_fid_all_df, chunk])"
   ]
  },
  {
   "cell_type": "code",
   "execution_count": 9,
   "id": "fbd69d89",
   "metadata": {},
   "outputs": [],
   "source": [
    "korean_to_english_columns = {\n",
    "    # FoodInfo 테이블\n",
    "    '식품코드': 'food_id',\n",
    "    '식품명': 'food_name',\n",
    "    '데이터구분코드': 'data_type_code',\n",
    "    '데이터구분명': 'data_type_name',\n",
    "    '품목제조보고번호': 'mfg_report_no',\n",
    "    '수입여부': 'is_imported',\n",
    "    '데이터기준일자': 'reference_date',\n",
    "    '폐기율(%)': 'disposal_rate_pct',\n",
    "\n",
    "    # FoodCategory 테이블\n",
    "    '식품대분류코드': 'major_category_code',\n",
    "    '식품대분류명': 'major_category_name',\n",
    "    '대표식품코드': 'representative_food_code',\n",
    "    '대표식품명': 'representative_food_name',\n",
    "    '식품중분류코드': 'medium_category_code',\n",
    "    '식품중분류명': 'medium_category_name',\n",
    "    '식품소분류코드': 'minor_category_code',\n",
    "    '식품소분류명': 'minor_category_name',\n",
    "    '식품세분류코드': 'detail_category_code',\n",
    "    '식품세분류명': 'detail_category_name',\n",
    "\n",
    "    # FoodSourceInfo 테이블\n",
    "    '식품기원코드': 'origin_code',\n",
    "    '식품기원명': 'origin_name',\n",
    "    '출처코드': 'source_code',\n",
    "    '출처명': 'source_name',\n",
    "    '데이터생성방법코드': 'generation_method_code',\n",
    "    '데이터생성방법명': 'generation_method_name',\n",
    "\n",
    "    # FoodCompany 테이블\n",
    "    '업체명': 'company_name',\n",
    "    '제조사명': 'manufacturer_name',\n",
    "    '원산지국코드': 'origin_country_code',\n",
    "    '원산지국명': 'origin_country_name',\n",
    "    '수입업체명': 'importer_name',\n",
    "    '유통업체명': 'distributor_name',\n",
    "\n",
    "    # FoodNutrition 테이블\n",
    "    '식품중량': 'weight',\n",
    "    '1회 섭취참고량': 'serving_size_g',\n",
    "    '영양성분함량기준량': 'nutrient_reference_amount_g',\n",
    "    '에너지(kcal)': 'energy_kcal',\n",
    "    '수분(g)': 'moisture_g',\n",
    "    '단백질(g)': 'protein_g',\n",
    "    '지방(g)': 'fat_g',\n",
    "    '회분(g)': 'ash_g',\n",
    "    '탄수화물(g)': 'carbohydrate_g',\n",
    "    '당류(g)': 'sugars_g',\n",
    "    '식이섬유(g)': 'dietary_fiber_g',\n",
    "    '칼슘(mg)': 'calcium_mg',\n",
    "    '철(mg)': 'iron_mg',\n",
    "    '인(mg)': 'phosphorus_mg',\n",
    "    '칼륨(mg)': 'potassium_mg',\n",
    "    '나트륨(mg)': 'sodium_mg',\n",
    "    '비타민A(μg RAE)': 'vitamin_a_ug_rae',\n",
    "    '레티놀(μg)': 'retinol_ug',\n",
    "    '베타카로틴(μg)': 'beta_carotene_ug',\n",
    "    '티아민(mg)': 'thiamin_mg',\n",
    "    '리보플라빈(mg)': 'riboflavin_mg',\n",
    "    '니아신(mg)': 'niacin_mg',\n",
    "    '비타민 C(mg)': 'vitamin_c_mg',\n",
    "    '비타민 D(μg)': 'vitamin_d_ug',\n",
    "    '콜레스테롤(mg)': 'cholesterol_mg',\n",
    "    '포화지방산(g)': 'saturated_fat_g',\n",
    "    '트랜스지방산(g)': 'trans_fat_g'\n",
    "}"
   ]
  },
  {
   "cell_type": "code",
   "execution_count": 12,
   "id": "1d1be6c1",
   "metadata": {},
   "outputs": [],
   "source": [
    "unique_fid_all_df.rename(columns=korean_to_english_columns, inplace=True)"
   ]
  },
  {
   "cell_type": "code",
   "execution_count": 13,
   "id": "39edb12f",
   "metadata": {},
   "outputs": [
    {
     "name": "stdout",
     "output_type": "stream",
     "text": [
      "<class 'pandas.core.frame.DataFrame'>\n",
      "RangeIndex: 166248 entries, 0 to 166247\n",
      "Data columns (total 57 columns):\n",
      " #   Column                       Non-Null Count   Dtype \n",
      "---  ------                       --------------   ----- \n",
      " 0   food_id                      166248 non-null  object\n",
      " 1   food_name                    166248 non-null  object\n",
      " 2   data_type_code               166248 non-null  object\n",
      " 3   data_type_name               166248 non-null  object\n",
      " 4   origin_code                  166248 non-null  object\n",
      " 5   origin_name                  166248 non-null  object\n",
      " 6   major_category_code          166248 non-null  object\n",
      " 7   major_category_name          166248 non-null  object\n",
      " 8   representative_food_code     166248 non-null  object\n",
      " 9   representative_food_name     166248 non-null  object\n",
      " 10  medium_category_code         166248 non-null  object\n",
      " 11  medium_category_name         166248 non-null  object\n",
      " 12  minor_category_code          166248 non-null  object\n",
      " 13  minor_category_name          166248 non-null  object\n",
      " 14  detail_category_code         166248 non-null  object\n",
      " 15  detail_category_name         166248 non-null  object\n",
      " 16  source_code                  166248 non-null  object\n",
      " 17  source_name                  166248 non-null  object\n",
      " 18  mfg_report_no                139968 non-null  object\n",
      " 19  company_name                 18249 non-null   object\n",
      " 20  manufacturer_name            151664 non-null  object\n",
      " 21  importer_name                151664 non-null  object\n",
      " 22  distributor_name             151664 non-null  object\n",
      " 23  is_imported                  151664 non-null  object\n",
      " 24  origin_country_code          12645 non-null   object\n",
      " 25  origin_country_name          151664 non-null  object\n",
      " 26  generation_method_code       166248 non-null  object\n",
      " 27  generation_method_name       166248 non-null  object\n",
      " 28  reference_date               166248 non-null  object\n",
      " 29  disposal_rate_pct            2127 non-null    object\n",
      " 30  weight                       162134 non-null  object\n",
      " 31  serving_size_g               126023 non-null  object\n",
      " 32  nutrient_reference_amount_g  166248 non-null  object\n",
      " 33  energy_kcal                  166248 non-null  object\n",
      " 34  moisture_g                   8273 non-null    object\n",
      " 35  protein_g                    166237 non-null  object\n",
      " 36  fat_g                        157428 non-null  object\n",
      " 37  ash_g                        5103 non-null    object\n",
      " 38  carbohydrate_g               157938 non-null  object\n",
      " 39  sugars_g                     164303 non-null  object\n",
      " 40  dietary_fiber_g              9608 non-null    object\n",
      " 41  calcium_mg                   10589 non-null   object\n",
      " 42  iron_mg                      9149 non-null    object\n",
      " 43  phosphorus_mg                7751 non-null    object\n",
      " 44  potassium_mg                 7896 non-null    object\n",
      " 45  sodium_mg                    164742 non-null  object\n",
      " 46  vitamin_a_ug_rae             1448 non-null    object\n",
      " 47  retinol_ug                   7092 non-null    object\n",
      " 48  beta_carotene_ug             6626 non-null    object\n",
      " 49  thiamin_mg                   8138 non-null    object\n",
      " 50  riboflavin_mg                8117 non-null    object\n",
      " 51  niacin_mg                    7898 non-null    object\n",
      " 52  vitamin_c_mg                 8455 non-null    object\n",
      " 53  vitamin_d_ug                 6794 non-null    object\n",
      " 54  cholesterol_mg               155363 non-null  object\n",
      " 55  saturated_fat_g              164004 non-null  object\n",
      " 56  trans_fat_g                  151719 non-null  object\n",
      "dtypes: object(57)\n",
      "memory usage: 72.3+ MB\n"
     ]
    }
   ],
   "source": [
    "unique_fid_all_df.info()"
   ]
  },
  {
   "cell_type": "code",
   "execution_count": 16,
   "id": "e33d27fd",
   "metadata": {},
   "outputs": [],
   "source": [
    "unique_fid_all_df.replace(\"해당없음\", pd.NA, inplace=True)"
   ]
  },
  {
   "cell_type": "code",
   "execution_count": 21,
   "id": "557825c5",
   "metadata": {},
   "outputs": [
    {
     "name": "stdout",
     "output_type": "stream",
     "text": [
      "<class 'pandas.core.frame.DataFrame'>\n",
      "RangeIndex: 166248 entries, 0 to 166247\n",
      "Data columns (total 57 columns):\n",
      " #   Column                       Non-Null Count   Dtype \n",
      "---  ------                       --------------   ----- \n",
      " 0   food_id                      166248 non-null  object\n",
      " 1   food_name                    166248 non-null  object\n",
      " 2   data_type_code               166248 non-null  object\n",
      " 3   data_type_name               166248 non-null  object\n",
      " 4   origin_code                  166248 non-null  object\n",
      " 5   origin_name                  166248 non-null  object\n",
      " 6   major_category_code          166248 non-null  object\n",
      " 7   major_category_name          166248 non-null  object\n",
      " 8   representative_food_code     166248 non-null  object\n",
      " 9   representative_food_name     166248 non-null  object\n",
      " 10  medium_category_code         166248 non-null  object\n",
      " 11  medium_category_name         102304 non-null  object\n",
      " 12  minor_category_code          166248 non-null  object\n",
      " 13  minor_category_name          136775 non-null  object\n",
      " 14  detail_category_code         166248 non-null  object\n",
      " 15  detail_category_name         3542 non-null    object\n",
      " 16  source_code                  166248 non-null  object\n",
      " 17  source_name                  166248 non-null  object\n",
      " 18  mfg_report_no                136303 non-null  object\n",
      " 19  company_name                 10440 non-null   object\n",
      " 20  manufacturer_name            138953 non-null  object\n",
      " 21  importer_name                9196 non-null    object\n",
      " 22  distributor_name             6078 non-null    object\n",
      " 23  is_imported                  151664 non-null  object\n",
      " 24  origin_country_code          12645 non-null   object\n",
      " 25  origin_country_name          12646 non-null   object\n",
      " 26  generation_method_code       166248 non-null  object\n",
      " 27  generation_method_name       166248 non-null  object\n",
      " 28  reference_date               166248 non-null  object\n",
      " 29  disposal_rate_pct            2127 non-null    object\n",
      " 30  weight                       162134 non-null  object\n",
      " 31  serving_size_g               126023 non-null  object\n",
      " 32  nutrient_reference_amount_g  166248 non-null  object\n",
      " 33  energy_kcal                  166248 non-null  object\n",
      " 34  moisture_g                   8273 non-null    object\n",
      " 35  protein_g                    166237 non-null  object\n",
      " 36  fat_g                        157428 non-null  object\n",
      " 37  ash_g                        5103 non-null    object\n",
      " 38  carbohydrate_g               157938 non-null  object\n",
      " 39  sugars_g                     164303 non-null  object\n",
      " 40  dietary_fiber_g              9608 non-null    object\n",
      " 41  calcium_mg                   10589 non-null   object\n",
      " 42  iron_mg                      9149 non-null    object\n",
      " 43  phosphorus_mg                7751 non-null    object\n",
      " 44  potassium_mg                 7896 non-null    object\n",
      " 45  sodium_mg                    164742 non-null  object\n",
      " 46  vitamin_a_ug_rae             1448 non-null    object\n",
      " 47  retinol_ug                   7092 non-null    object\n",
      " 48  beta_carotene_ug             6626 non-null    object\n",
      " 49  thiamin_mg                   8138 non-null    object\n",
      " 50  riboflavin_mg                8117 non-null    object\n",
      " 51  niacin_mg                    7898 non-null    object\n",
      " 52  vitamin_c_mg                 8455 non-null    object\n",
      " 53  vitamin_d_ug                 6794 non-null    object\n",
      " 54  cholesterol_mg               155363 non-null  object\n",
      " 55  saturated_fat_g              164004 non-null  object\n",
      " 56  trans_fat_g                  151719 non-null  object\n",
      "dtypes: object(57)\n",
      "memory usage: 72.3+ MB\n"
     ]
    }
   ],
   "source": [
    "unique_fid_all_df.info(verbose=True)"
   ]
  },
  {
   "cell_type": "code",
   "execution_count": 23,
   "id": "37920181",
   "metadata": {},
   "outputs": [],
   "source": [
    "unique_fid_all_df.to_csv(\"combine_data.csv\", encoding=\"utf-8\")"
   ]
  },
  {
   "cell_type": "code",
   "execution_count": null,
   "id": "675067e0",
   "metadata": {},
   "outputs": [],
   "source": []
  }
 ],
 "metadata": {
  "kernelspec": {
   "display_name": ".venv",
   "language": "python",
   "name": "python3"
  },
  "language_info": {
   "codemirror_mode": {
    "name": "ipython",
    "version": 3
   },
   "file_extension": ".py",
   "mimetype": "text/x-python",
   "name": "python",
   "nbconvert_exporter": "python",
   "pygments_lexer": "ipython3",
   "version": "3.12.10"
  }
 },
 "nbformat": 4,
 "nbformat_minor": 5
}
