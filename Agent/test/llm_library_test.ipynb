{
 "cells": [
  {
   "metadata": {},
   "cell_type": "markdown",
   "source": "# 각 패키지별 사용법",
   "id": "4733c44c61e5fc74"
  },
  {
   "metadata": {
    "ExecuteTime": {
     "end_time": "2025-04-27T14:58:39.050740Z",
     "start_time": "2025-04-27T14:58:39.045011Z"
    }
   },
   "cell_type": "code",
   "source": [
    "from IPython.display import Markdown\n",
    "from dotenv import load_dotenv\n",
    "load_dotenv()"
   ],
   "id": "6bcca8b856451dad",
   "outputs": [
    {
     "data": {
      "text/plain": [
       "True"
      ]
     },
     "execution_count": 6,
     "metadata": {},
     "output_type": "execute_result"
    }
   ],
   "execution_count": 6
  },
  {
   "metadata": {},
   "cell_type": "markdown",
   "source": "## Ollama",
   "id": "b8eae1915c2f1755"
  },
  {
   "cell_type": "code",
   "id": "f26913b2696dc01f",
   "metadata": {
    "ExecuteTime": {
     "end_time": "2025-04-27T13:24:11.130538Z",
     "start_time": "2025-04-27T13:24:11.126574Z"
    }
   },
   "source": "import ollama",
   "outputs": [],
   "execution_count": 4
  },
  {
   "metadata": {
    "collapsed": true,
    "ExecuteTime": {
     "end_time": "2025-04-27T14:19:27.256745Z",
     "start_time": "2025-04-27T14:19:26.934786Z"
    }
   },
   "cell_type": "code",
   "source": [
    "ollama_response = ollama.chat(model='gemma3', messages=[\n",
    "    {\n",
    "        'role': 'system',\n",
    "        'content': \"넌 음식 분류 모델이야. 음식을 입력 받으면 다음 종류 중 하아로 대답해. 음식 종류: [면, 빵, 밥, 국, 찜, 고기, 튀김, 그외, 음식이 아님]\"\n",
    "    },\n",
    "    {\n",
    "        'role': 'user',\n",
    "        'content': '탕수육',\n",
    "    },\n",
    "])"
   ],
   "id": "initial_id",
   "outputs": [],
   "execution_count": 69
  },
  {
   "metadata": {
    "ExecuteTime": {
     "end_time": "2025-04-27T14:19:27.265587Z",
     "start_time": "2025-04-27T14:19:27.261906Z"
    }
   },
   "cell_type": "code",
   "source": "type(ollama_response), ollama_response.__dict__",
   "id": "6f2880c416df5001",
   "outputs": [
    {
     "data": {
      "text/plain": [
       "(ollama._types.ChatResponse,\n",
       " {'model': 'gemma3',\n",
       "  'created_at': '2025-04-27T14:19:27.254431314Z',\n",
       "  'done': True,\n",
       "  'done_reason': 'stop',\n",
       "  'total_duration': 301916734,\n",
       "  'load_duration': 35078054,\n",
       "  'prompt_eval_count': 70,\n",
       "  'prompt_eval_duration': 228617197,\n",
       "  'eval_count': 3,\n",
       "  'eval_duration': 37615921,\n",
       "  'message': Message(role='assistant', content='튀김', images=None, tool_calls=None)})"
      ]
     },
     "execution_count": 70,
     "metadata": {},
     "output_type": "execute_result"
    }
   ],
   "execution_count": 70
  },
  {
   "metadata": {
    "ExecuteTime": {
     "end_time": "2025-04-27T14:19:28.030348Z",
     "start_time": "2025-04-27T14:19:28.022976Z"
    }
   },
   "cell_type": "code",
   "source": "ollama_response['message'].__dict__",
   "id": "5a8a5c45d6b1aef",
   "outputs": [
    {
     "data": {
      "text/plain": [
       "{'role': 'assistant', 'content': '튀김', 'images': None, 'tool_calls': None}"
      ]
     },
     "execution_count": 71,
     "metadata": {},
     "output_type": "execute_result"
    }
   ],
   "execution_count": 71
  },
  {
   "metadata": {
    "ExecuteTime": {
     "end_time": "2025-04-27T14:19:28.549761Z",
     "start_time": "2025-04-27T14:19:28.544223Z"
    }
   },
   "cell_type": "code",
   "source": "Markdown(ollama_response['message']['content'])",
   "id": "cc3833eec02f539c",
   "outputs": [
    {
     "data": {
      "text/plain": [
       "<IPython.core.display.Markdown object>"
      ],
      "text/markdown": "튀김"
     },
     "execution_count": 72,
     "metadata": {},
     "output_type": "execute_result"
    }
   ],
   "execution_count": 72
  },
  {
   "metadata": {
    "ExecuteTime": {
     "end_time": "2025-04-27T13:52:26.037574Z",
     "start_time": "2025-04-27T13:52:22.341854Z"
    }
   },
   "cell_type": "code",
   "source": [
    "with open('mbti.png', 'rb') as file:\n",
    "  ollama_img_response = ollama.chat(\n",
    "    model='gemma3',\n",
    "    messages=[\n",
    "      {\n",
    "        'role': 'user',\n",
    "        'content': '이 사진은 어떤 것을 보여주고 있는 것 같에?',\n",
    "        'images': [file.read()],\n",
    "      },\n",
    "    ],\n",
    "  )"
   ],
   "id": "51a286bdbfd1b8ab",
   "outputs": [],
   "execution_count": 28
  },
  {
   "metadata": {
    "ExecuteTime": {
     "end_time": "2025-04-27T13:52:53.597586Z",
     "start_time": "2025-04-27T13:52:53.591959Z"
    }
   },
   "cell_type": "code",
   "source": "ollama_img_response.__dict__",
   "id": "90b70aa9afbe541c",
   "outputs": [
    {
     "data": {
      "text/plain": [
       "{'model': 'gemma3',\n",
       " 'created_at': '2025-04-27T13:52:26.033958173Z',\n",
       " 'done': True,\n",
       " 'done_reason': 'stop',\n",
       " 'total_duration': 3687205193,\n",
       " 'load_duration': 45453806,\n",
       " 'prompt_eval_count': 281,\n",
       " 'prompt_eval_duration': 1976455040,\n",
       " 'eval_count': 94,\n",
       " 'eval_duration': 1664279653,\n",
       " 'message': Message(role='assistant', content='이 사진은 INTJ-T 성격 유형에 대한 비율을 보여주고 있습니다. 각 비율은 다음과 같습니다.\\n\\n*   **지성:** 100%\\n*   **애너지:** 83%\\n*   **개성:** 58%\\n*   **자아:** 19%\\n\\n이 비율은 INTJ-T 성격 유형의 특징을 나타내는 지표로 해석될 수 있습니다.', images=None, tool_calls=None)}"
      ]
     },
     "execution_count": 30,
     "metadata": {},
     "output_type": "execute_result"
    }
   ],
   "execution_count": 30
  },
  {
   "metadata": {
    "ExecuteTime": {
     "end_time": "2025-04-27T13:52:36.099650Z",
     "start_time": "2025-04-27T13:52:36.087897Z"
    }
   },
   "cell_type": "code",
   "source": "Markdown(ollama_img_response['message']['content'])",
   "id": "342c0afdd164c9f2",
   "outputs": [
    {
     "data": {
      "text/plain": [
       "<IPython.core.display.Markdown object>"
      ],
      "text/markdown": "이 사진은 INTJ-T 성격 유형에 대한 비율을 보여주고 있습니다. 각 비율은 다음과 같습니다.\n\n*   **지성:** 100%\n*   **애너지:** 83%\n*   **개성:** 58%\n*   **자아:** 19%\n\n이 비율은 INTJ-T 성격 유형의 특징을 나타내는 지표로 해석될 수 있습니다."
     },
     "execution_count": 29,
     "metadata": {},
     "output_type": "execute_result"
    }
   ],
   "execution_count": 29
  },
  {
   "metadata": {},
   "cell_type": "markdown",
   "source": "## gemini",
   "id": "42a6e8bf44173523"
  },
  {
   "metadata": {
    "ExecuteTime": {
     "end_time": "2025-04-27T14:52:17.560111Z",
     "start_time": "2025-04-27T14:52:17.342507Z"
    }
   },
   "cell_type": "code",
   "source": [
    "from google import genai\n",
    "from google.genai import types\n",
    "import os\n",
    "\n",
    "client = genai.Client(api_key=os.getenv('GOOGLE_API_KEY'))"
   ],
   "id": "3b41e5ba405ef97a",
   "outputs": [],
   "execution_count": 78
  },
  {
   "metadata": {
    "ExecuteTime": {
     "end_time": "2025-04-27T14:23:25.432456Z",
     "start_time": "2025-04-27T14:23:24.720419Z"
    }
   },
   "cell_type": "code",
   "source": [
    "gemini_response = client.models.generate_content(\n",
    "    model=\"gemini-2.0-flash\",\n",
    "    config=types.GenerateContentConfig(\n",
    "        system_instruction=\"넌 음식 분류 모델이야. 음식을 입력 받으면 다음 종류 중 하아로 대답해. 음식 종류: [면, 빵, 밥, 국, 찜, 고기, 튀김, 그외, 음식이 아님]\"),\n",
    "    contents=\"[탕수육, 제육볶음, 신발]\"\n",
    ")"
   ],
   "id": "18b29ae167a160f0",
   "outputs": [],
   "execution_count": 74
  },
  {
   "metadata": {
    "ExecuteTime": {
     "end_time": "2025-04-27T14:23:25.442217Z",
     "start_time": "2025-04-27T14:23:25.432456Z"
    }
   },
   "cell_type": "code",
   "source": "gemini_response",
   "id": "7c94d275e002c690",
   "outputs": [
    {
     "data": {
      "text/plain": [
       "GenerateContentResponse(candidates=[Candidate(content=Content(parts=[Part(video_metadata=None, thought=None, code_execution_result=None, executable_code=None, file_data=None, function_call=None, function_response=None, inline_data=None, text='[튀김, 고기, 음식이 아님]\\n')], role='model'), citation_metadata=None, finish_message=None, token_count=None, finish_reason=<FinishReason.STOP: 'STOP'>, avg_logprobs=-0.01662530324288777, grounding_metadata=None, index=None, logprobs_result=None, safety_ratings=None)], create_time=None, response_id=None, model_version='gemini-2.0-flash', prompt_feedback=None, usage_metadata=GenerateContentResponseUsageMetadata(cache_tokens_details=None, cached_content_token_count=None, candidates_token_count=14, candidates_tokens_details=[ModalityTokenCount(modality=<MediaModality.TEXT: 'TEXT'>, token_count=14)], prompt_token_count=74, prompt_tokens_details=[ModalityTokenCount(modality=<MediaModality.TEXT: 'TEXT'>, token_count=74)], thoughts_token_count=None, tool_use_prompt_token_count=None, tool_use_prompt_tokens_details=None, total_token_count=88, traffic_type=None), automatic_function_calling_history=[], parsed=None)"
      ]
     },
     "execution_count": 75,
     "metadata": {},
     "output_type": "execute_result"
    }
   ],
   "execution_count": 75
  },
  {
   "metadata": {
    "ExecuteTime": {
     "end_time": "2025-04-27T14:23:26.288192Z",
     "start_time": "2025-04-27T14:23:26.281472Z"
    }
   },
   "cell_type": "code",
   "source": "Markdown(gemini_response.text)",
   "id": "4927d730854e87f1",
   "outputs": [
    {
     "data": {
      "text/plain": [
       "<IPython.core.display.Markdown object>"
      ],
      "text/markdown": "[튀김, 고기, 음식이 아님]\n"
     },
     "execution_count": 76,
     "metadata": {},
     "output_type": "execute_result"
    }
   ],
   "execution_count": 76
  },
  {
   "metadata": {
    "ExecuteTime": {
     "end_time": "2025-04-27T14:14:30.111570Z",
     "start_time": "2025-04-27T14:14:27.705273Z"
    }
   },
   "cell_type": "code",
   "source": [
    "with open('mbti.png', 'rb') as file:\n",
    "  gemini_img_response = client.models.generate_content(\n",
    "    model='gemini-2.0-flash',\n",
    "    contents=[\n",
    "      types.Part.from_bytes(\n",
    "        data=file.read(),\n",
    "        mime_type='image/png',\n",
    "      ),\n",
    "      '이 사진은 어떤 것을 보여주고 있는 것 같에?'\n",
    "    ]\n",
    "  )"
   ],
   "id": "3b794bcbc1e5fb4f",
   "outputs": [],
   "execution_count": 53
  },
  {
   "metadata": {
    "ExecuteTime": {
     "end_time": "2025-04-27T14:14:39.207766Z",
     "start_time": "2025-04-27T14:14:39.199747Z"
    }
   },
   "cell_type": "code",
   "source": "gemini_img_response.__dict__",
   "id": "ecfa62d5b14bb1f2",
   "outputs": [
    {
     "data": {
      "text/plain": [
       "{'candidates': [Candidate(content=Content(parts=[Part(video_metadata=None, thought=None, code_execution_result=None, executable_code=None, file_data=None, function_call=None, function_response=None, inline_data=None, text='이 이미지는 사람의 성격 유형을 보여주는 심리 검사 결과인 것 같습니다. 여기에 나와있는 정보는 다음과 같습니다.\\n\\n* **성격 유형:** INTP-T (\"논리술사\"로 번역)\\n* **정신:** 0% 외향형, 100% 내향형\\n* **에너지:** 83% 직관형, 17% 현실주의형\\n* **본성:** 58% 사고형, 42% 감정형\\n* **전술:** 42% 계획형, 58% 탐색형\\n* **자아:** 19% 확신형, 81% 민감형\\n\\n이 이미지는 개인이 INTP-T 성격 유형에 해당하며, 각 성격 영역에서 특정 선호도를 가지고 있음을 보여줍니다.\\n')], role='model'), citation_metadata=None, finish_message=None, token_count=None, finish_reason=<FinishReason.STOP: 'STOP'>, avg_logprobs=-0.28580487691439116, grounding_metadata=None, index=None, logprobs_result=None, safety_ratings=None)],\n",
       " 'create_time': None,\n",
       " 'response_id': None,\n",
       " 'model_version': 'gemini-2.0-flash',\n",
       " 'prompt_feedback': None,\n",
       " 'usage_metadata': GenerateContentResponseUsageMetadata(cache_tokens_details=None, cached_content_token_count=None, candidates_token_count=208, candidates_tokens_details=[ModalityTokenCount(modality=<MediaModality.TEXT: 'TEXT'>, token_count=208)], prompt_token_count=1821, prompt_tokens_details=[ModalityTokenCount(modality=<MediaModality.IMAGE: 'IMAGE'>, token_count=1806), ModalityTokenCount(modality=<MediaModality.TEXT: 'TEXT'>, token_count=15)], thoughts_token_count=None, tool_use_prompt_token_count=None, tool_use_prompt_tokens_details=None, total_token_count=2029, traffic_type=None),\n",
       " 'automatic_function_calling_history': [],\n",
       " 'parsed': None}"
      ]
     },
     "execution_count": 55,
     "metadata": {},
     "output_type": "execute_result"
    }
   ],
   "execution_count": 55
  },
  {
   "metadata": {
    "ExecuteTime": {
     "end_time": "2025-04-27T14:15:03.869184Z",
     "start_time": "2025-04-27T14:15:03.862017Z"
    }
   },
   "cell_type": "code",
   "source": "Markdown(gemini_img_response.text)",
   "id": "6043a6505879abc",
   "outputs": [
    {
     "data": {
      "text/plain": [
       "<IPython.core.display.Markdown object>"
      ],
      "text/markdown": "이 이미지는 사람의 성격 유형을 보여주는 심리 검사 결과인 것 같습니다. 여기에 나와있는 정보는 다음과 같습니다.\n\n* **성격 유형:** INTP-T (\"논리술사\"로 번역)\n* **정신:** 0% 외향형, 100% 내향형\n* **에너지:** 83% 직관형, 17% 현실주의형\n* **본성:** 58% 사고형, 42% 감정형\n* **전술:** 42% 계획형, 58% 탐색형\n* **자아:** 19% 확신형, 81% 민감형\n\n이 이미지는 개인이 INTP-T 성격 유형에 해당하며, 각 성격 영역에서 특정 선호도를 가지고 있음을 보여줍니다.\n"
     },
     "execution_count": 57,
     "metadata": {},
     "output_type": "execute_result"
    }
   ],
   "execution_count": 57
  },
  {
   "metadata": {},
   "cell_type": "markdown",
   "source": "## langchain",
   "id": "fd915f7c62a904e5"
  },
  {
   "metadata": {
    "ExecuteTime": {
     "end_time": "2025-04-27T14:56:49.665870Z",
     "start_time": "2025-04-27T14:56:47.606818Z"
    }
   },
   "cell_type": "code",
   "source": [
    "from langchain_google_genai import ChatGoogleGenerativeAI\n",
    "from langchain_core.prompts import ChatPromptTemplate\n",
    "\n",
    "llm = ChatGoogleGenerativeAI(\n",
    "    model=\"gemini-2.0-flash-001\",\n",
    "    temperature=0,\n",
    "    max_tokens=None,\n",
    "    timeout=None,\n",
    "    max_retries=2,\n",
    "    # other params...\n",
    ")\n",
    "\n",
    "prompt = ChatPromptTemplate.from_messages(\n",
    "    [\n",
    "        (\n",
    "            \"system\",\n",
    "            \"넌 음식 분류 모델이야. 음식을 입력 받으면 다음 종류 중 하아로 대답해. 음식 종류: [면, 빵, 밥, 국, 찜, 고기, 튀김, 그외, 음식이 아님]\",\n",
    "        ),\n",
    "        (\"human\", \"{input}\"),\n",
    "    ]\n",
    ")\n",
    "\n",
    "chain = prompt | llm\n",
    "langchain_result = chain.invoke(\n",
    "    {\n",
    "        \"input\": \"[탕수육, 제육볶음, 신발]\",\n",
    "    }\n",
    ")"
   ],
   "id": "50b52874f55b4a4d",
   "outputs": [],
   "execution_count": 1
  },
  {
   "metadata": {
    "ExecuteTime": {
     "end_time": "2025-04-27T14:57:15.012831Z",
     "start_time": "2025-04-27T14:57:15.008314Z"
    }
   },
   "cell_type": "code",
   "source": "type(langchain_result), langchain_result.__dict__",
   "id": "ec12eeac8137011c",
   "outputs": [
    {
     "data": {
      "text/plain": [
       "(langchain_core.messages.ai.AIMessage,\n",
       " {'content': '[튀김, 고기, 음식이 아님]',\n",
       "  'additional_kwargs': {},\n",
       "  'response_metadata': {'prompt_feedback': {'block_reason': 0,\n",
       "    'safety_ratings': []},\n",
       "   'finish_reason': 'STOP',\n",
       "   'safety_ratings': []},\n",
       "  'type': 'ai',\n",
       "  'name': None,\n",
       "  'id': 'run-39ddddae-bec3-42e7-bd1e-76dabd1749db-0',\n",
       "  'example': False,\n",
       "  'tool_calls': [],\n",
       "  'invalid_tool_calls': [],\n",
       "  'usage_metadata': {'input_tokens': 74,\n",
       "   'output_tokens': 14,\n",
       "   'total_tokens': 88,\n",
       "   'input_token_details': {'cache_read': 0}}})"
      ]
     },
     "execution_count": 4,
     "metadata": {},
     "output_type": "execute_result"
    }
   ],
   "execution_count": 4
  },
  {
   "metadata": {
    "ExecuteTime": {
     "end_time": "2025-04-27T14:58:52.247662Z",
     "start_time": "2025-04-27T14:58:52.243478Z"
    }
   },
   "cell_type": "code",
   "source": "Markdown(langchain_result.content)",
   "id": "77fecdab924374",
   "outputs": [
    {
     "data": {
      "text/plain": [
       "<IPython.core.display.Markdown object>"
      ],
      "text/markdown": "[튀김, 고기, 음식이 아님]"
     },
     "execution_count": 7,
     "metadata": {},
     "output_type": "execute_result"
    }
   ],
   "execution_count": 7
  },
  {
   "metadata": {},
   "cell_type": "code",
   "outputs": [],
   "execution_count": null,
   "source": "",
   "id": "3ba91c5f32baadb3"
  }
 ],
 "metadata": {
  "kernelspec": {
   "display_name": "Python 3",
   "language": "python",
   "name": "python3"
  },
  "language_info": {
   "codemirror_mode": {
    "name": "ipython",
    "version": 2
   },
   "file_extension": ".py",
   "mimetype": "text/x-python",
   "name": "python",
   "nbconvert_exporter": "python",
   "pygments_lexer": "ipython2",
   "version": "2.7.6"
  }
 },
 "nbformat": 4,
 "nbformat_minor": 5
}
