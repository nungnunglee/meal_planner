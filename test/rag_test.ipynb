{
 "cells": [
  {
   "cell_type": "markdown",
   "metadata": {
    "vscode": {
     "languageId": "plaintext"
    }
   },
   "source": [
    "## 양선옥 교수님의 수업 과제\n",
    "임베딩모델과 벡터DB의 소개 및 종류 별 성능 분석"
   ]
  },
  {
   "cell_type": "markdown",
   "metadata": {},
   "source": [
    "### langchain을 이용한 RAG 시스템에서의 성능 분석"
   ]
  },
  {
   "cell_type": "markdown",
   "metadata": {},
   "source": [
    "#### 데이터 불러오기"
   ]
  },
  {
   "cell_type": "code",
   "execution_count": 2,
   "metadata": {},
   "outputs": [],
   "source": [
    "import os\n",
    "import json\n",
    "from glob import glob\n",
    "from pathlib import Path\n",
    "from langchain_core.documents import Document\n",
    "from tqdm import tqdm"
   ]
  },
  {
   "cell_type": "code",
   "execution_count": 22,
   "metadata": {},
   "outputs": [
    {
     "name": "stderr",
     "output_type": "stream",
     "text": [
      "Loading medical source data: 100%|██████████| 159/159 [00:00<00:00, 10345.54it/s]\n"
     ]
    }
   ],
   "source": [
    "max_len = 4000\n",
    "\n",
    "medical_src_data_dir = \"C:/dataset/08.전문 의학지식 데이터/3.개방데이터/1.데이터/Training/raw_data\"\n",
    "medical_src_data = list()\n",
    "medical_src_data_path = glob(os.path.join(medical_src_data_dir, \"*.json\"))\n",
    "for file_path in tqdm(medical_src_data_path, desc=\"Loading medical source data\"):\n",
    "    with open(file_path, \"r\", encoding=\"utf-8-sig\") as f:\n",
    "        data = json.load(f)\n",
    "        if len(data[\"content\"]) > max_len:\n",
    "            continue\n",
    "        doc = Document(\n",
    "            page_content=data[\"content\"], \n",
    "            metadata={\n",
    "                \"source\": data[\"source\"], \n",
    "                \"domain\": data[\"domain\"],\n",
    "                \"source\": data[\"source\"],\n",
    "                \"source_spec\": data[\"source_spec\"],\n",
    "                \"creation_year\": data[\"creation_year\"],\n",
    "            })\n",
    "        medical_src_data.append(doc)"
   ]
  },
  {
   "cell_type": "code",
   "execution_count": 4,
   "metadata": {},
   "outputs": [
    {
     "name": "stderr",
     "output_type": "stream",
     "text": [
      "Loading TL_기타: 100%|██████████| 30/30 [00:00<00:00, 10985.61it/s]\n"
     ]
    }
   ],
   "source": [
    "medical_data_dir = \"C:/dataset/08.전문 의학지식 데이터/3.개방데이터/1.데이터/Training/02.라벨링데이터/\"\n",
    "# medical_data_class_path = [Path(path) for path in glob(os.path.join(medical_data_dir, \"TL_기타/\"))]\n",
    "medical_label_data = list()\n",
    "for class_path in medical_data_class_path:\n",
    "    class_path_list = list(class_path.glob(\"*.json\"))[:30]\n",
    "    for file_path in tqdm(class_path_list, desc=f\"Loading {class_path.name}\"):\n",
    "        with open(file_path, \"r\", encoding=\"utf-8-sig\") as f:\n",
    "            data = json.load(f)\n",
    "            if len(data[\"question\"]) > max_len:\n",
    "                continue\n",
    "            doc = Document(\n",
    "                page_content=data[\"question\"], \n",
    "                metadata={\n",
    "                    \"answer\": data[\"answer\"], \n",
    "                    \"domain\": data[\"domain\"],\n",
    "                    \"q_type\": data[\"q_type\"],\n",
    "                })\n",
    "            medical_label_data.append(doc)"
   ]
  },
  {
   "cell_type": "code",
   "execution_count": 21,
   "metadata": {},
   "outputs": [
    {
     "data": {
      "text/plain": [
       "12228"
      ]
     },
     "execution_count": 21,
     "metadata": {},
     "output_type": "execute_result"
    }
   ],
   "source": [
    "PPP = [Path(path) for path in glob(os.path.join(medical_data_dir, \"*/\"))]\n",
    "sum([len(list(path.glob(\"*.json\",))) for path in PPP])    "
   ]
  },
  {
   "cell_type": "code",
   "execution_count": 35,
   "metadata": {},
   "outputs": [
    {
     "data": {
      "text/plain": [
       "(Document(metadata={'answer': '이 환자의 초기 치료는 비수술적 방법을 우선으로 한다. 비스테로이드성 소염제(NSAIDs)와 근육 이완제를 사용하여 통증을 완화하고, 물리치료를 통해 허리 근육을 강화하며 자세를 교정한다. 또한, 생활습관 개선이 중요하며, 올바른 자세 유지와 체중 조절을 권장한다. 대부분의 경우 이러한 비수술적 치료로 증상이 호전되지만, 증상이 지속되거나 악화될 경우에는 수술적 치료를 고려할 수 있다.', 'domain': 13, 'q_type': 3}, page_content='60세 남성이 만성 요통과 다리 저림을 호소하며 내원했다. MRI에서 요추 추간판 탈출증이 확인되었다. 이 환자의 초기 치료 방침을 설명하시오.'),\n",
       " Document(metadata={'source': 6, 'domain': 1, 'source_spec': 'Harrison-21', 'creation_year': '2023'}, page_content=\"RAS 단백질이 활성화되면, 이어서 RAF, MEK, ERK와 같은 키나제의 계단식 반응이 유도됩니다. 마지막으로 활성화된 ERK는 핵으로 이동하여 세포 분열과 생존에 필요한 유전자 발현을 조절하는 전사 인자를 활성화합니다. 이 경로의 과활성화는 암 발생에 중요한 역할을 하며, RAS나 BRAF의 돌연변이는 여러 유형의 암에서 흔히 발견됩니다. PI3K-AKT-mTOR 경로는 세포 생존, 성장, 그리고 대사 조절에 중요한 역할을 합니다. RTK의 활성화는 PI3K를 활성화시키고, 이어서 AKT와 mTOR을 활성화하여 세포 성장과 생존을 촉진합니다. 이 경로는 또한 세포 자멸사를 억제하여 암세포가 더 오래 생존하도록 돕습니다. PI3K, AKT, mTOR의 돌연변이나 과발현은 다양한 암에서 발견되며, 이 경로를 표적으로 하는 치료제들이 개발되고 있습니다. PLC-γ 경로에서 RTK의 활성화는 PLC-γ를 활성화시키고, 이는 막 지질인 PIP2를 DAG와 IP3로 분해하여 다양한 세포 내 신호 전달 과정을 촉진합니다. 이는 세포 내 칼슘 농도를 증가시키고 단백질 키나제 C(PKC)를 활성화하여 세포의 증식과 생존을 조절합니다. 이러한 신호 전달 경로를 표적으로 하는 치료는 암 치료에서 중요한 전략이 되었습니다. 예를 들어, EGFR 돌연변이를 가진 폐암 환자에게는 EGFR 억제제(예: 오시머티닙)가 효과적이며, BRAF 돌연변이를 가진 흑색종 환자에게는 BRAF 억제제(예: 베무라페닙)가 사용됩니다. 이러한 표적 치료제는 암세포의 생존 및 증식을 촉진하는 특정 경로를 억제함으로써 치료 효과를 발휘합니다. 또한, PI3K 경로를 억제하는 약물(예: 에버롤리무스, 템시롤리무스)은 다양한 암의 치료에 사용되고 있으며, 세포 증식과 생존에 중요한 다른 신호 전달 경로를 억제하는 치료제들도 계속 개발되고 있습니다. 그러나 이러한 치료제들은 암을 완치시키기보다는 종양의 성장을 억제하고 생존 기간을 연장하는 데 더 효과적입니다. 암은 종종 특정 유전자 변이와 연관되어 있습니다. 이러한 변이는 세포 증식, 생존, 분화 및 전이를 조절하는 경로를 교란시켜 종양 형성을 유발합니다. 암 특이적 유전적 변화 중 일부는 발암 유전자(예: KRAS, BRAF, MYC)의 활성화와 관련이 있으며, 다른 부분은 종양 억제 유전자(예: TP53, BRCA1/2)의 불활성화와 관련이 있습니다. 이러한 유전자 변이는 종양 세포가 생존을 위해 특정 신호 경로에 의존하게 만드는 '발암 유전자 중독(Oncogene Addiction)' 현상을 유발할 수 있습니다. 합성 치사성(Synthetic Lethality)은 두 개의 유전자가 각각의 기능을 상실해도 세포가 생존할 수 있지만, 두 유전자가 동시에 기능을 상실하면 세포가 죽는 현상을 말합니다. 암 치료에서 합성 치사성을 이용하면 종양 세포의 생존에 필수적인 경로를 선택적으로 표적으로 삼아 암세포를 죽일 수 있습니다. 예를 들어, BRCA1 또는 BRCA2 유전자에 돌연변이가 있는 세포는 동원 재조합을 통한 DNA 복구 능력을 상실합니다. 이러한 세포에서는 다른 DNA 복구 경로인 단일 가닥 수선(SSB)에 의존하게 되며, 이 경로의 핵심 요소인 PARP를 억제하면 선택적으로 암세포를 죽일 수 있습니다. PARP 억제제는 BRCA 변이가 있는 유방암, 난소암, 전립선암 환자의 치료에 사용되어 좋은 효과를 보이고 있습니다. 합성 치사성을 이용한 치료 전략은 암세포의 특정 유전자 변이 또는 기능 장애를 이용하여 표적 치료를 가능하게 하며, 이는 암 치료의 개인화와 정확성을 향상시키는 중요한 접근법입니다. 조직의 항상성은 노화되거나 손상된 세포의 사멸과 새로운 세포의 증식 사이의 균형에 의해 유지됩니다. 세포 증식을 조절하는 유전자의 손상은 종양 형성을 초래할 수 있으며, 이러한 유전적 변화는 보통 발암 유전자 활성화 또는 종양 억제 유전자의 손실을 통해 비정상적인 세포 증식을 유발할 수 있습니다. 그러나 이러한 비정상적인 증식은 종종 세포 자멸사(apoptosis) 또는 비가역적 세포 성장 정지(노화)와 같은 기전을 통해 억제됩니다. 세포 자멸사는 두 가지 주요 경로를 통해 유도되는 엄격하게 조절된 세포 사멸 과정입니다. 외인성 경로는 세포 표면의 종양 괴사 인자(TNF) 수용체 초가족 멤버들의 교차 결합에 의해 활성화됩니다. 대표적으로 Fas(CD95)와 DR4 및 DR5 등의 사멸 수용체가 포함됩니다. 이들 수용체가 Fas 리간드 또는 TRAIL(TNF-related apoptosis-inducing ligand)와 결합하면, 세포 내로 Fas-associated death domain(FADD)와 프로카스파제-8의 결합이 유도됩니다. 이 결합은 카스파제-8의 활성화를 초래하고, 이후 카스파제-3과 -7과 같은 이펙터 카스파제들을 활성화하여 세포 자멸사의 형태학적 변화를 유도합니다. 이 과정은 핵 파편화(karyorrhexis)와 같은 세포 자멸사 특유의 형태 변화를 유발합니다. 내인성 경로는 미토콘드리아에서 사이토크롬 c와 SMAC(second mitochondrial activator of caspases)의 방출에 의해 시작됩니다. 이는 DNA 손상, 세포 외 기질(ECM)에 대한 부착 손실, 발암 유전자에 의한 증식, 성장 인자 부족 등 다양한 유해 자극에 대한 반응으로 발생합니다. 세포질로 방출된 사이토크롬 c는 dATP, 프로카스파제-9, 그리고 어댑터 단백질인 APAF-1과 결합하여 카스파제-9와 이펙터 카스파제의 연속적인 활성을 유도합니다. SMAC은 IAP(Inhibitor of Apoptosis Proteins)와 결합하여 카스파제의 활성을 억제하는 IAP의 기능을 차단합니다. 미토콘드리아에서 유도된 세포 자멸사 경로는 Bcl-2 가족 단백질에 의해 조절됩니다. 항자멸성 단백질(Bcl-2, Bcl-XL, Mcl-1 등)은 미토콘드리아 외막에 결합하여 미토콘드리아로부터의 사이토크롬 c의 방출을 억제합니다. 반대로, 프로자멸성 단백질(Bax, Bak 등)은 미토콘드리아 외막에 구멍을 형성하여 사이토크롬 c의 방출을 유도합니다. 이 과정은 세포 자멸사 경로를 활성화시키는 BH3-단백질(Bid, Bim, Puma 등)에 의해 더욱 조절됩니다. 미토콘드리아 외막에서 항자멸성 단백질과 프로자멸성 단백질의 수준은 내인성 세포 자멸사 경로의 활성 상태를 결정하는 핵심 요소입니다.\"))"
      ]
     },
     "execution_count": 35,
     "metadata": {},
     "output_type": "execute_result"
    }
   ],
   "source": [
    "medical_label_data[0], medical_src_data[0]"
   ]
  },
  {
   "cell_type": "markdown",
   "metadata": {},
   "source": [
    "#### 임베딩 모델 설정"
   ]
  },
  {
   "cell_type": "code",
   "execution_count": null,
   "metadata": {},
   "outputs": [],
   "source": [
    "from langchain_openai import OpenAIEmbeddings\n",
    "from langchain_google_genai import GoogleGenerativeAIEmbeddings\n",
    "from langchain_huggingface import HuggingFaceEmbeddings\n",
    "\n",
    "openai_embeddings = OpenAIEmbeddings(model=\"text-embedding-3-large\")\n",
    "google_embeddings = GoogleGenerativeAIEmbeddings(model=\"models/text-embedding-004\")\n",
    "ko_embeddings = HuggingFaceEmbeddings(model_name=\"dragonkue/snowflake-arctic-embed-l-v2.0-ko\")"
   ]
  },
  {
   "cell_type": "code",
   "execution_count": 7,
   "metadata": {},
   "outputs": [
    {
     "data": {
      "text/plain": [
       "1024"
      ]
     },
     "execution_count": 7,
     "metadata": {},
     "output_type": "execute_result"
    }
   ],
   "source": [
    "query = \"hello\"\n",
    "len(openai_embeddings.embed_query(query)), len(google_embeddings.embed_query(query)), len(ko_embeddings.embed_query(query))"
   ]
  },
  {
   "cell_type": "markdown",
   "metadata": {},
   "source": [
    "#### 벡터DB 설정"
   ]
  },
  {
   "cell_type": "code",
   "execution_count": 5,
   "metadata": {},
   "outputs": [],
   "source": [
    "from dotenv import load_dotenv\n",
    "load_dotenv()\n",
    "\n",
    "from langchain_community.vectorstores import FAISS\n",
    "from langchain_chroma import Chroma\n",
    "from langchain_qdrant import QdrantVectorStore\n",
    "from qdrant_client import QdrantClient\n",
    "from qdrant_client.http.models import Distance, VectorParams\n",
    "from langchain_pinecone import PineconeVectorStore\n",
    "import torch"
   ]
  },
  {
   "cell_type": "code",
   "execution_count": 6,
   "metadata": {},
   "outputs": [],
   "source": [
    "openai_vectorstore_dict = dict()\n",
    "\n",
    "batch_size = 10\n",
    "\n",
    "chroma_db = Chroma(\n",
    "    embedding_function=openai_embeddings,\n",
    "    persist_directory=\"C:/dataset/08.전문 의학지식 데이터/3.개방데이터/1.데이터/Training/hug_split_chroma_db_noid\",\n",
    "    collection_name=\"medical_src_data\"\n",
    ")\n",
    "\n",
    "for i in range(0, len(medical_src_data), batch_size):\n",
    "    chroma_db.add_documents(medical_src_data[i:i+batch_size])\n",
    "\n",
    "openai_vectorstore_dict[\"chroma\"] = chroma_db.as_retriever()"
   ]
  },
  {
   "cell_type": "code",
   "execution_count": 10,
   "metadata": {},
   "outputs": [],
   "source": [
    "client = QdrantClient(path=\"C:/dataset/08.전문 의학지식 데이터/3.개방데이터/1.데이터/Training/hug_split_qdrant_noid\")\n",
    "\n",
    "client.create_collection(\n",
    "    collection_name=\"medical_src_data\",\n",
    "    vectors_config=VectorParams(size=1024, distance=Distance.COSINE),\n",
    ")\n",
    "\n",
    "qdrant_db = QdrantVectorStore(\n",
    "    client=client,\n",
    "    collection_name=\"medical_src_data\",\n",
    "    embedding=openai_embeddings,\n",
    ")\n",
    "\n",
    "for i in range(0, len(medical_src_data), batch_size):\n",
    "    qdrant_db.add_documents(medical_src_data[i:i+batch_size])\n",
    "    torch.cuda.empty_cache()\n",
    "\n",
    "openai_vectorstore_dict[\"qdrant\"] = qdrant_db.as_retriever()"
   ]
  },
  {
   "cell_type": "code",
   "execution_count": 12,
   "metadata": {},
   "outputs": [],
   "source": [
    "pinecone_db = PineconeVectorStore(\n",
    "    index_name=\"medical-src-data-hug\",\n",
    "    embedding=openai_embeddings,\n",
    ")\n",
    "\n",
    "for i in range(0, len(medical_src_data), batch_size):\n",
    "    pinecone_db.add_documents(medical_src_data[i:i+batch_size])\n",
    "    torch.cuda.empty_cache()\n",
    "\n",
    "openai_vectorstore_dict[\"pinecone\"] = pinecone_db.as_retriever()"
   ]
  },
  {
   "cell_type": "code",
   "execution_count": 13,
   "metadata": {},
   "outputs": [],
   "source": [
    "import faiss\n",
    "from langchain_community.docstore.in_memory import InMemoryDocstore\n",
    "\n",
    "faiss_db = FAISS(\n",
    "    embedding_function=openai_embeddings,\n",
    "    index=faiss.IndexFlatL2(1024),\n",
    "    docstore=InMemoryDocstore(),\n",
    "    index_to_docstore_id={},\n",
    ")\n",
    "for i in range(0, len(medical_src_data), batch_size):\n",
    "    faiss_db.add_documents(medical_src_data[i:i+batch_size])\n",
    "    torch.cuda.empty_cache()\n",
    "\n",
    "openai_vectorstore_dict[\"faiss\"] = faiss_db.as_retriever()\n",
    "faiss_db.save_local(folder_path=\"C:/dataset/split_faiss_hug\", index_name=\"medical_src_data\")"
   ]
  },
  {
   "cell_type": "code",
   "execution_count": 51,
   "metadata": {},
   "outputs": [
    {
     "data": {
      "text/plain": [
       "[Document(id='6bd1739f-9c72-4a81-840f-efcf9b1b91b9', metadata={'domain': 1, 'source_spec': \"['5375)', 'docx']\", 'creation_year': '2023', 'source': 6}, page_content='당뇨병은 전 세계적으로 가장 심각한 공중 보건 문제 중 하나로, 그 영향력과 경제적 부담은 해마다 증가하고 있습니다. 단순히 혈당 조절의 문제가 아니라, 복잡한 대사 장애로 정의되며, 다양한 기전과 합병증을 통해 환자의 전반적인 건강에 광범위하게 영향을 미칩니다. 특히 심혈관계, 신장, 신경계, 시각계에 치명적인 영향을 미치며, 환자의 삶의 질을 심각하게 저하시키는 만성 질환입니다. 본 논의에서는 당뇨병의 병태생리학, 유병률, 합병증, 최신 치료 전략에 대해 심도 있게 다룹니다. 1형 당뇨병은 자가면역 반응으로 인해 췌장의 베타 세포가 파괴되는 것이 특징입니다. 유전적 소인(HLA 유전자 등)과 환경적 요인이 결합하여 자가면역 반응을 유발하며, 자가항체(항-GAD65 항체, 항-ICA 항체 등)가 베타 세포를 공격합니다. T 세포, 특히 CD8+ 세포는 베타 세포 표면의 항원을 인식하여 이를 제거하며, 이로 인해 인슐린 분비가 급격히 감소합니다. 환자는 생명을 유지하기 위해 외부에서 인슐린을 공급받아야 합니다. 최근 연구에서는 Th17 세포와 같은 새로운 면역 세포가 자가면역 반응의 중추적 역할을 한다는 증거가 보고되고 있으며, 이는 면역 조절제나 백신 개발의 기초 자료로 활용될 수 있습니다. 2형 당뇨병은 인슐린 저항성과 췌장의 베타 세포 기능 저하가 결합된 결과로 발생합니다. 인슐린 저항성은 인슐린 수용체 신호 전달 경로의 결함에서 비롯되며, 말초 조직에서의 포도당 흡수가 저하됩니다. 초기에는 베타 세포가 인슐린 분비를 증가시켜 이를 보상하려 하지만, 시간이 지남에 따라 베타 세포의 기능이 저하되고, 결국 인슐린 분비가 감소하여 고혈당이 만성화됩니다. 유리 지방산과 염증성 사이토카인의 증가는 인슐린 저항성을 악화시키고, 베타 세포의 기능 저하를 가속화합니다. 또한, 아밀린과 같은 단백질의 침착은 베타 세포 내 응집체를 형성하여 세포 독성을 유발하며, 이는 세포 사멸로 이어집니다. 당뇨병의 유병률은 전 세계적으로 지속적으로 증가하고 있으며, 특히 저소득 및 중간 소득 국가에서 두드러집니다. 1980년대 이후 유병률은 거의 두 배 이상 증가했으며, 이는 급격한 생활 습관 변화, 도시화, 고령화에 기인합니다. 아시아 국가에서는 경제 성장과 함께 식이 습관의 서구화, 신체 활동 감소, 비만 증가로 인해 발병률이 급격히 증가하고 있습니다. 중국과 인도는 전 세계에서 당뇨병 환자가 가장 많은 국가로, 이들 국가의 증가 추세는 글로벌 공중 보건에 중대한 위협을 가하고 있습니다. 당뇨병은 개인과 국가에 막대한 경제적 부담을 초래합니다. 직접적인 의료 비용뿐만 아니라, 생산성 손실, 조기 사망으로 인한 경제적 손실과 같은 간접 비용도 상당합니다. WHO에 따르면, 당뇨병으로 인한 전 세계 GDP 손실은 연간 약 1조 7천억 달러에 이를 것으로 추정됩니다. 특히 저소득 국가에서는 인슐린과 같은 필수 약물에 대한 접근성이 제한되어 있어, 적절한 치료를 받지 못하는 환자가 많습니다. 이는 합병증 발생률과 사망률을 증가시키며, 경제적 부담을 더욱 가중시키는 악순환을 초래합니다. 당뇨병성 망막병증은 당뇨병 환자에서 가장 흔한 미세혈관 합병증으로, 시력을 상실할 위험이 높은 상태입니다. 고혈당은 망막 내 미세혈관의 내피세포와 주위 세포에 독성을 유발하여 기능을 저하시킵니다. 혈관내피성장인자(VEGF)의 발현이 증가하며, 비정상적인 신생혈관 형성을 촉진합니다. 이 신생혈관은 약하고 쉽게 파열되어 출혈을 일으키며, 망막 부종과 섬유화로 이어질 수 있습니다. 또한, 고혈당은 폴리올 경로의 활성화를 촉진하여 산화 스트레스를 증가시키고, 혈액-망막 장벽을 손상시켜 망막 부종을 유발합니다. 당뇨병성 신병증은 당뇨병 환자에서 말기 신부전의 주요 원인 중 하나입니다. 고혈당은 사구체 내 고혈압과 기저막 비후를 유발하며, 단백뇨와 신장 기능 저하로 이어집니다. 고혈당에 의해 활성화되는 TGF-β 신호 전달 경로는 세포외기질의 축적을 촉진하여 신장 조직의 섬유화를 가속화합니다. 이러한 섬유화 과정은 신장 기능을 점진적으로 저하시켜, 결국 투석이나 신장 이식이 필요하게 됩니다. 당뇨병성 신경병증은 말초 신경에 영향을 미치는 가장 흔한 합병증 중 하나입니다. 고혈당은 신경 세포와 슈반 세포에서 산화 스트레스를 증가시키며, 이는 미토콘드리아 기능 장애와 세포 사멸을 유발합니다. 또한, 폴리올 경로의 활성화로 인해 소르비톨 축적과 세포 내 삼투압 변화가 발생하며, 이는 신경 세포 손상을 초래합니다. 통증 경로의 변화는 신경병성 통증의 주요 원인으로 작용하며, 이는 환자의 삶의 질을 심각하게 저하시킵니다. 당뇨병성 심혈관 질환은 혈관 내피 기능 저하와 동맥경화증 촉진으로 인해 발생합니다. 고혈당은 내피 세포의 산화 스트레스를 증가시키며, 이는 내피세포 기능 저하와 NO 생성 감소를 초래합니다. 이는 혈관 확장 능력을 저하시켜 고혈압과 같은 심혈관 질환을 유발합니다. 또한, 염증 반응과 산화 스트레스는 혈관벽 비후와 섬유화, 죽상 동맥경화반 형성을 촉진하여 심근경색, 뇌졸중 등의 심각한 심혈관 합병증으로 이어질 수 있습니다. 당뇨병 예방은 특히 2형 당뇨병의 경우 가능한 목표입니다. 체중 관리, 식이 조절, 규칙적인 운동은 인슐린 저항성을 개선하고 혈당 조절을 돕습니다. 사회적 차원에서는 건강한 식단 접근성 확대, 신체 활동 기회 창출, 불건전한 식품 접근 제한 등의 정책이 필요합니다. 당뇨병 관리의 목표는 혈당을 정상 범위로 유지하고 합병증을 예방하는 것입니다. 1형 당뇨병 환자는 인슐린 요법이 필수적이며, 2형 당뇨병 환자는 경구용 혈당 강하제와 생활 습관 변화를 통해 혈당을 조절할 수 있습니다. 최신 치료법으로는 연속 혈당 모니터링, 인공 췌장, 신형 인슐린 제제 등이 있으며, 이는 혈당 관리의 편의성과 효과를 높이는 데 기여합니다. 결론적으로, 당뇨병은 전 세계적으로 큰 건강 문제로, 조기 진단과 지속적인 혈당 관리가 중요합니다. WHO와 같은 국제기구의 노력과 각국 정부의 체계적인 접근이 필요하며, 개인의 노력과 사회적, 정책적 개입을 통해 당뇨병의 부담을 줄이고 환자의 삶의 질을 향상시킬 수 있습니다.'),\n",
       " Document(id='b4bbfae7-6d5e-4caf-8859-7ce3cb9067be', metadata={'source_spec': \"['7009)', 'docx']\", 'creation_year': '2023', 'domain': 1, 'source': 6}, page_content='인슐린과 글루카곤은 인체 대사 조절에서 매우 중요한 역할을 하는 두 가지 주요 호르몬입니다. 인슐린은 혈당을 낮추고 영양소의 저장을 촉진하는 동화작용 호르몬으로 작용하며, 글루카곤은 에너지를 방출하고 혈당을 유지하는 이화작용 호르몬으로 기능합니다. 이 두 호르몬의 균형은 신체의 에너지 항상성을 유지하는 데 필수적이며, 균형이 깨질 경우 당뇨병과 같은 대사 질환이 발생할 수 있습니다. 인슐린의 구조와 생합성 인슐린은 51개의 아미노산으로 구성된 펩타이드 호르몬으로, 두 개의 폴리펩타이드 사슬(A 사슬과 B 사슬)로 이루어져 있습니다. A 사슬은 21개의 아미노산, B 사슬은 30개의 아미노산으로 구성되며, 두 사슬은 두 개의 이황화 결합으로 연결됩니다. A 사슬 내에서도 추가적인 이황화 결합이 존재하여 인슐린 분자의 입체 구조를 안정화시키고 생리적 활성을 유지합니다. 이러한 구조적 안정성은 인슐린이 생리적 환경에서 효과적으로 작용할 수 있도록 합니다. 인슐린은 췌장의 랑게르한스섬 β 세포에서 프리프로인슐린 형태로 합성됩니다. 프리프로인슐린은 소포체로 이동하여 신호 펩타이드가 제거된 후 프로인슐린으로 전환됩니다. 이후 프로인슐린은 골지체에서 C-펩타이드가 제거되며, 최종적으로 활성 인슐린이 형성됩니다. C-펩타이드는 인슐린의 접힘 과정에서 중요한 역할을 하며, 인슐린의 분비 및 생합성의 지표로 사용됩니다. 활성화된 인슐린은 분비 과립에 저장되며, 혈당 상승 등의 자극에 반응하여 세포 외로 방출됩니다. 인슐린 분비 조절 메커니즘 인슐린 분비는 주로 혈중 포도당 농도에 의해 조절됩니다. 포도당은 췌장의 β 세포에 위치한 GLUT-2 수송체를 통해 세포 내로 들어가며, 글루코키나제에 의해 포도당-6-인산으로 인산화됩니다. 이 과정에서 ATP/ADP 비율이 증가하여 ATP-민감성 칼륨 채널이 닫히고, 세포막이 탈분극됩니다. 이로 인해 전압 의존성 칼슘 채널이 열리며, 세포 내로 칼슘 이온이 유입됩니다. 칼슘 신호는 인슐린 분비 과립의 세포막 융합을 유도하여 인슐린이 방출됩니다. 또한, 아미노산, 지방산, 인크레틴 호르몬(GLP-1, GIP) 등 다양한 대사적 자극이 인슐린 분비를 촉진합니다. 포도당 자극에 의한 인슐린 분비 혈당 상승은 인슐린 분비의 가장 강력한 자극 중 하나입니다. 포도당은 GLUT-2 수송체를 통해 β 세포로 유입되며, 글루코키나제에 의해 포도당-6-인산으로 변환됩니다. 이 과정은 포도당 농도를 감지하고 ATP 생성의 증가로 이어져 ATP/ADP 비율을 높입니다. ATP-민감성 칼륨 채널이 닫히면 β 세포가 탈분극되어 전압 의존성 칼슘 채널이 열리게 됩니다. 그 결과, 세포 내 칼슘 농도가 증가하여 인슐린 분비 과립이 세포막과 융합하고, 인슐린이 방출됩니다. 이러한 포도당 자극성 인슐린 분비는 특히 식사 후 혈당 조절에 중요한 역할을 합니다. 인크레틴 효과와 인슐린 분비의 증폭 인크레틴 호르몬(GLP-1, GIP)은 포도당 자극 인슐린 분비를 강화하는 중요한 역할을 합니다. 이 호르몬들은 식사 후 위장관에서 분비되어 β 세포의 포도당 감수성을 높입니다. GLP-1은 위 배출을 지연시키고 식욕을 억제하며, β 세포의 생존과 증식을 촉진합니다. 인크레틴 효과는 경구로 섭취된 포도당이 정맥 주입된 포도당보다 더 강력한 인슐린 분비를 유도하는 이유를 설명합니다. 이러한 특성은 당뇨병 치료에서 GLP-1 수용체 작용제나 DPP-4 억제제가 효과적인 이유입니다. 스트레스와 인슐린 분비 억제 교감신경계는 스트레스 상황에서 인슐린 분비를 억제합니다. 에피네프린과 노르에피네프린은 β2-아드레날린 수용체를 통해 β 세포에서 인슐린 분비를 억제하고, 간에서 포도당 생산을 촉진합니다. 이는 신체가 급격한 에너지 요구 상황에서 혈당을 유지할 수 있도록 하는 메커니즘입니다. 이러한 스트레스 반응은 인슐린의 대사적 효과를 상쇄시키며, 신체가 즉각적인 에너지원으로 포도당을 사용할 수 있도록 합니다. 탄수화물 대사에서 인슐린의 역할 인슐린은 간에서 글리코겐 합성을 촉진하고 글리코겐 분해를 억제하여 혈당을 낮춥니다. 또한, 간에서 포도당 신생합성을 억제하여 추가적인 혈당 상승을 방지합니다. 근육과 지방 조직에서는 인슐린이 GLUT-4 수송체를 세포막으로 이동시켜 포도당 흡수를 촉진합니다. 이는 특히 식사 후 혈당 조절에 중요하며, 포도당이 세포 내로 빠르게 흡수되어 에너지로 사용되거나 저장됩니다. 인슐린은 해당작용(glycolysis)을 통해 포도당을 피루브산으로 전환하여 에너지를 생산하며, 동시에 글리코겐 합성을 촉진하여 여분의 포도당을 저장합니다. 지질 대사에서 인슐린의 역할 인슐린은 지방 조직에서 호르몬 민감성 리파아제(HSL)의 활성을 억제하여 지방산 방출을 감소시키고, 글리세롤 3-인산을 통해 중성지방 합성을 촉진합니다. 또한, 리포프로테인 리파아제(LPL) 유전자의 발현을 증가시켜 혈중 지방산이 중성지방으로 전환되는 것을 돕습니다. 간에서는 포도당을 중성지방으로 전환하여 저장하는 과정을 촉진하며, 이 중성지방은 VLDL 형태로 간에서 분비되어 혈액을 통해 운반됩니다. 단백질 대사에서 인슐린의 역할 인슐린은 단백질 합성을 촉진하고 단백질 분해를 억제하여 근육의 단백질 균형을 유지합니다. 또한, 간에서 아미노산이 포도당 신생합성에 사용되지 않고 단백질 합성에 활용되도록 합니다. 인슐린은 mTOR 경로를 활성화하여 단백질 합성을 촉진하며, 이는 세포 성장과 복구를 촉진합니다. 인슐린 저항성과 대사적 결과 인슐린 저항성은 세포가 인슐린에 적절히 반응하지 못하는 상태로, 주로 인슐린 수용체 기질(IRS) 단백질의 인산화 과정에서 결함이 발생할 때 나타납니다. 이는 고혈당을 초래하며, 2형 당뇨병의 주요 원인 중 하나입니다. 인슐린 저항성은 근육과 지방 조직에서 포도당 흡수가 감소함으로써 나타나며, 장기적으로는 β 세포의 기능 저하로 이어져 만성 고혈당 상태를 초래합니다.'),\n",
       " Document(id='808d5b08-0768-459d-9bfa-0cd24a150e05', metadata={'domain': 1, 'source': 6, 'creation_year': '2023', 'source_spec': \"['5769)', 'docx']\"}, page_content='서론 영양 공급과 단식 주기는 인체 대사를 조절하는 데 중요한 역할을 합니다. 이 과정은 인슐린, 글루카곤, 에피네프린과 같은 호르몬의 복잡한 상호작용에 의해 조절되며, 신체가 다양한 에너지 요구에 어떻게 적응하는지를 결정합니다. 특히 간은 탄수화물, 지질, 아미노산 대사를 조절하여 전신의 대사 균형을 유지하는 데 중심적인 역할을 합니다. 이 글에서는 흡수 상태와 단식 상태에서 간을 포함한 주요 조직에서 일어나는 대사적 변화를 분석하고, 이러한 변화가 신체 전체의 에너지 균형에 어떻게 기여하는지 설명합니다. 1. 흡수 상태: 에너지 저장과 합성의 시기 식사 후 신체는 흡수 상태에 들어가며, 이 시기 동안 혈중 포도당, 아미노산, 트라이글리세라이드(TAG)의 농도가 증가합니다. 이러한 영양소는 주로 소장에서 흡수된 후 간과 다른 조직으로 전달되어 대사됩니다. 흡수 상태에서 인슐린 분비가 급증하고 글루카곤 분비가 억제되며, 인슐린과 글루카곤의 비율이 높아지면서 신체는 동화작용을 활성화하여 영양소를 에너지원으로 저장하고 합성하는 데 집중합니다. 1.1 간에서의 포도당 대사 간은 흡수 상태에서 혈중 포도당을 조절하는 데 중요한 역할을 합니다. 식사 후 혈당이 증가하면 간은 이를 흡수하여 저장하거나 에너지원으로 사용합니다. 주요 과정은 글리코겐 합성, 해당작용, 오탄당 인산 경로입니다. 1.1.1 글리코겐 합성 간은 혈중 포도당을 글루코키나제의 작용으로 포도당-6-포스페이트로 전환합니다. 이 포도당-6-포스페이트는 글리코겐 신타제에 의해 글리코겐으로 전환되어 간에 저장됩니다. 간은 약 100g의 글리코겐을 저장할 수 있으며, 이는 혈당이 낮아졌을 때 빠르게 동원될 수 있는 에너지원으로 사용됩니다. 인슐린은 글리코겐 합성을 촉진하며, 글리코겐 신타제를 활성화하고 글리코겐 분해 효소를 억제합니다. 1.1.2 해당작용 포도당-6-포스페이트의 일부는 해당작용 경로로 진입하여 피루브산으로 전환됩니다. 이 과정에서 포도당이 분해되어 ATP와 NADH가 생성됩니다. 생성된 피루브산은 미토콘드리아로 이동하여 아세틸-CoA로 전환되고, 이는 TCA 회로에 진입하여 추가적인 에너지를 생산합니다. 인슐린은 포스포프럭토키나제-1(PFK-1)을 활성화하여 해당작용을 촉진합니다. 1.1.3 오탄당 인산 경로 포도당-6-포스페이트는 오탄당 인산 경로로 들어가 NADPH와 리보오스를 생성합니다. NADPH는 지방산 합성과 콜레스테롤 합성에서 중요한 환원제로 작용하며, 리보오스는 핵산 합성의 전구물질로 사용됩니다. 이 경로는 세포의 산화적 스트레스를 조절하고 항산화 방어 체계를 지원합니다. 1.2 간에서의 지질 대사 간은 흡수 상태에서 지방산과 중성지방(TAG)의 합성과 저장을 담당합니다. 주요 과정은 지방산 합성, 중성지방 합성, 콜레스테롤 합성입니다. 1.2.1 지방산 합성 간에서 지방산 합성은 아세틸-CoA로부터 시작됩니다. 아세틸-CoA는 시트르산 회로에서 시트르산으로 전환되어 세포질로 이동한 후 다시 아세틸-CoA로 전환됩니다. 아세틸-CoA 카복실화 효소는 이를 말로닐-CoA로 전환하며, 이는 지방산 합성의 첫 단계입니다. 인슐린은 이 효소를 활성화하여 지방산 합성을 촉진합니다. 1.2.2 중성지방 합성 간에서 합성된 지방산은 글리세롤-3-포스페이트와 결합하여 중성지방으로 전환됩니다. 이 중성지방은 VLDL 형태로 간에서 혈류로 방출되며, 지방 조직과 근육으로 운반되어 저장되거나 에너지원으로 사용됩니다. 인슐린은 이 과정을 촉진합니다. 1.2.3 콜레스테롤 합성 간은 아세틸-CoA로부터 콜레스테롤을 합성합니다. HMG-CoA 환원효소는 이 과정의 속도 제한 단계로, 콜레스테롤 농도에 따라 조절됩니다. 콜레스테롤은 세포막의 주요 구성 성분이며, 스테로이드 호르몬과 담즙산의 전구물질로 사용됩니다. 1.3 간에서의 아미노산 대사 간은 흡수 상태에서 아미노산을 대사하고 단백질을 합성합니다. 아미노산은 혈장 단백질, 응고 인자, 운반 단백질 등 다양한 생리적 기능을 수행하는 단백질 합성에 사용됩니다. 과도한 아미노산은 탈아미노화 과정을 거쳐 암모니아와 탄소 골격을 생성하며, 암모니아는 요소로 전환되어 배설됩니다. 1.4 지방 조직의 대사 변화 지방 조직은 흡수 상태에서 중성지방을 저장하는 데 중요한 역할을 합니다. 인슐린은 지방 조직에서 포도당 흡수와 중성지방 합성을 촉진합니다. 포도당은 글리세롤-3-포스페이트로 전환되어 중성지방 합성에 사용됩니다. 지방 조직은 또한 오탄당 인산 경로를 통해 NADPH를 생성하여 지방산 합성을 돕습니다. 1.5 골격근의 대사 변화 골격근은 흡수 상태에서 포도당과 아미노산을 흡수하여 에너지를 저장하고 단백질을 합성합니다. 인슐린은 GLUT-4 수송체를 통해 포도당 흡수를 촉진하며, 흡수된 포도당은 에너지원으로 사용되거나 글리코겐으로 저장됩니다. 아미노산은 단백질 합성에 사용되며, 이는 근육량 유지와 성장에 기여합니다. 1.6 뇌의 대사 변화 뇌는 포도당을 주요 에너지원으로 사용하며, 하루 약 140g의 포도당을 소비합니다. 뇌는 인슐린 독립적인 GLUT-1 수송체를 통해 포도당을 흡수하며, 이를 완전히 산화하여 에너지를 생성합니다. 혈당이 낮아지면 뇌 기능이 저하될 수 있으므로 혈당의 일정한 유지가 필수적입니다. 2. 단식 상태: 에너지 동원의 시기 단식 상태에서는 혈당, 아미노산, 트라이글리세라이드 농도가 감소하며, 인슐린 분비는 줄어들고 글루카곤과 에피네프린 분비가 증가합니다. 이 시기에는 저장된 에너지원이 동원되어 에너지를 공급합니다. 2.1 간에서의 대사 변화 단식 상태에서 간은 혈당을 유지하고 케톤체를 생성하여 다른 조직에 에너지를 공급합니다. 초기에는 글리코겐 분해가, 이후에는 포도당신생합성이 주요 포도당 공급원이 됩니다. 지방산은 간에서 산화되어 에너지를 생성하며, 생성된 아세틸-CoA는 케톤체 합성에 사용됩니다. 케톤체는 뇌와 다른 조직에 에너지원으로 사용됩니다. 2.2 지방 조직의 대사 변화 지방 조직은 중성지방을 분해하여 지방산과 글리세롤을 방출합니다. 지방산은 간에서 에너지원으로 사용되거나 케톤체로 전환되며, 글리세롤은 포도당신생합성의 기질로 사용됩니다. 2.3 골격근의 대사 변화 골격근은 지방산과 케톤체를 에너지원으로 사용하며, 단백질 분해를 통해 포도당신생합성에 필요한 아미노산을 제공합니다. 단식이 길어질수록 케톤체 사용이 증가하여 단백질 분해가 감소하고 근육량 보존이 강화됩니다. 2.4 뇌의 대사 변화 단식 초기에는 뇌가 포도당을 주된 에너지원으로 사용하지만, 단식이 길어지면 케톤체를 주된 에너지원으로 사용하게 됩니다. 이는 단백질 분해를 줄이고 근육을 보존하는 데 기여합니다. 2.5 신장의 대사 변화 단식 후기에 신장은 포도당신생합성에 기여하며, 혈액의 산성도를 조절합니다. 신장은 암모니아를 생성하여 과잉 산을 중화하고, 암모늄 형태로 배출하여 체내 산성도를 조절합니다.'),\n",
       " Document(id='038c1dfb-1a37-41df-9c1d-9fa9dc3700e1', metadata={'domain': 1, 'source_spec': \"['35491)', 'docx']\", 'creation_year': '2023', 'source': 6}, page_content='SF1 유전자 결함이 있는 환자들은 부신 기능 부전과 생식샘 발달 결함을 겪을 가능성이 높습니다. 연구에 따르면 SF1 돌연변이는 생식샘과 부신의 발달에 중요한 영향을 미치며, 이러한 환자들에서 생식샘 종양 발생 위험이 증가할 수 있음을 시사합니다. 따라서 SF1 돌연변이를 가진 환자들에게는 정기적인 생식샘 모니터링과 종양 예방 조치가 필요합니다. 성 염색체 이상은 성별 분화에 중요한 영향을 미치는 또 다른 주요 위험 요인입니다. 터너 증후군(45XO), 클라인펠터 증후군(47XXY), 모자이크 성 염색체 이상 등 다양한 DSD(성분화발달장애)의 발병 위험을 증가시킬 수 있습니다. 터너 증후군은 여성에서 X 염색체의 결실이나 구조적 이상으로 인해 발생하며, 성 염색체 이상 중 가장 흔한 유형 중 하나입니다. 주요 특징으로는 난소 발달 결함과 이차 성징의 미발달이 있습니다. 연구에 따르면 터너 증후군 환자들은 난소 부전과 관련된 호르몬 불균형으로 인해 조기 폐경과 불임을 겪을 위험이 높습니다. 또한 생식기 이상과 관련된 다른 합병증을 경험할 가능성이 높으며, 조기 에스트로겐 대체 요법이 필수적임을 시사합니다. 이 환자들은 심혈관 질환, 당뇨병, 골다공증과 같은 대사성 질환의 위험이 높아 장기적인 모니터링과 관리가 필요합니다. 클라인펠터 증후군은 남성에서 추가적인 X 염색체가 존재하여 발생하는 성 염색체 이상으로, 고환 발달 결함과 테스토스테론 분비 저하를 초래합니다. 이로 인해 이차 성징 발달이 지연되고, 불임 및 성적 발달 장애가 나타날 수 있습니다. 연구에 따르면 클라인펠터 증후군 환자들은 사춘기 이후 성적 발달 지연과 불임을 경험하는 경우가 많습니다. 조기 진단과 테스토스테론 대체 요법은 이들의 성적 발달과 삶의 질을 향상시키는 데 중요하며, 조기 치료를 통해 장기적인 합병증 발생 위험을 감소시킬 수 있습니다. 모자이크 성 염색체 이상은 성 염색체의 수나 구조에 변이가 있는 세포와 정상적인 세포가 동시에 존재하는 상태를 말합니다. 이로 인해 생식샘 발달에 다양성이 나타나며, 생식기 모호성과 성적 발달 장애를 초래할 수 있습니다. 연구에 따르면 모자이크 증 환자들은 성별 할당과 성적 발달에서 다양한 임상 양상을 보일 수 있으며, 일부는 남성형 생식기를, 일부는 여성형 생식기를, 또 다른 일부는 혼합된 외부 생식기를 가질 수 있습니다. 이 환자들에서 생식샘 종양의 위험이 증가하며, 정기적인 생식샘 모니터링과 조기 생식샘 제거가 필요합니다. 호르몬 이상은 DSD 발생의 주요 위험 요인 중 하나로, 부신과 생식샘에서의 호르몬 합성 장애로 인해 발생합니다. 이러한 호르몬 이상은 성 분화 과정에서 중요한 역할을 하며, 선천성 부신 과형성증(CAH) 및 안드로겐 불응증 증후군(AIS)과 같은 질환을 유발할 수 있습니다. CAH는 부신 피질에서 스테로이드 호르몬 합성에 중요한 효소의 결핍으로 인해 발생하며, 이로 인해 부신에서 과도한 안드로겐이 생성됩니다. 과도한 안드로겐 노출은 46XX 여성 태아에서 외부 생식기의 남성화를 초래할 수 있으며, 이는 생식기 모호성을 유발합니다. 연구에 따르면 CAH 환자들은 신속한 진단과 스테로이드 대체 요법을 통해 장기적인 건강을 유지할 수 있으며, 치료가 지연될 경우 성 정체성 혼란과 성적 기능 장애를 겪을 가능성이 높아질 수 있습니다. AIS는 XY 유전자형을 가진 남성에서 안드로겐 수용체의 기능적 결함으로 인해 발생하며, 안드로겐 신호 전달의 장애로 외부 생식기가 여성형으로 발달합니다. AIS는 완전형(CAIS)과 부분형(PAIS)으로 나뉘며, 이는 안드로겐 수용체 결함의 정도에 따라 달라집니다. 연구에 따르면 CAIS 환자들은 대부분 여성으로 성별 할당을 받으며, 성적 발달과 성적 기능에서 대체로 만족스러운 결과를 보입니다. 반면 PAIS 환자들은 성별 불일치와 성 정체성 혼란을 겪을 가능성이 높아 성별 할당과 관련된 임상적 결정이 복잡해질 수 있습니다. AIS 환자들에게는 생식샘 종양의 발생 위험이 높아 정기적인 생식샘 모니터링과 조기 생식샘 제거가 필요합니다. 환경적 요인도 DSD 발생에 중요한 영향을 미칠 수 있습니다. 특히 임신 중 특정 약물이나 호르몬에의 노출이 태아의 성별 발달에 부정적인 영향을 줄 수 있습니다. 예를 들어, 임신 중 합성 안드로겐이나 프로게스틴과 같은 호르몬의 사용은 태아의 성 분화 과정에 중대한 영향을 미칠 수 있습니다. 연구에 따르면 임신 중 합성 안드로겐에 노출된 여성 태아들은 외부 생식기가 남성화될 가능성이 높습니다. 이러한 상황에서 임신부가 안드로겐 노출을 최소화하는 것이 중요합니다. 환경 호르몬(Endocrine Disruptors)은 호르몬 수용체와 결합하여 정상적인 호르몬 신호 전달을 방해할 수 있으며, 이는 태아의 성별 발달에 부정적인 영향을 미칠 수 있습니다. 연구에 따르면 특정 환경 호르몬에 노출된 임산부들이 DSD를 가진 아이를 출산할 위험이 높아질 수 있습니다. 특히 비스페놀 A(BPA)와 같은 물질들이 태아의 안드로겐 수용체 기능을 방해하여 외부 생식기 남성화 결함을 초래할 수 있습니다. 가족력은 DSD 발생의 중요한 위험 요인 중 하나입니다. DSD는 종종 유전적 돌연변이나 염색체 이상으로 인해 발생하며, 이러한 이상은 가족 내에서 반복적으로 나타날 수 있습니다. X 연관 유전 질환이나 상염색체 열성 유전 질환의 경우, 가족 내에서 DSD 발생 위험이 크게 증가할 수 있습니다. 예를 들어, AIS를 가진 환자들의 가족력을 분석한 연구에서는 모계로부터 X 염색체 돌연변이가 유전되어 동일한 유전적 결함이 가족 내에서 반복적으로 나타날 가능성이 높음을 보고하였습니다. 임신 중 특정 조건들도 태아의 성 분화 발달에 중요한 영향을 미칠 수 있습니다. 예를 들어, 임신 중 모체가 겪는 당뇨병, 고혈압, 자간전증과 같은 상태들은 태아의 정상적인 발달 과정을 방해할 수 있으며, 이로 인해 DSD의 위험이 증가할 수 있습니다. 연구에 따르면 임신성 당뇨병을 가진 여성들이 DSD를 가진 아이를 출산할 위험이 일반 인구에 비해 높습니다. 임신성 당뇨병이 태아의 호르몬 균형에 부정적인 영향을 미쳐 성 분화 과정에서 이상을 초래할 수 있습니다. D')]"
      ]
     },
     "execution_count": 51,
     "metadata": {},
     "output_type": "execute_result"
    }
   ],
   "source": [
    "openai_vectorstore_dict[\"chroma\"].invoke(\"당뇨\")"
   ]
  },
  {
   "cell_type": "markdown",
   "metadata": {},
   "source": [
    "#### Naive RAG 설정"
   ]
  },
  {
   "cell_type": "code",
   "execution_count": 14,
   "metadata": {},
   "outputs": [],
   "source": [
    "from langchain_google_genai import ChatGoogleGenerativeAI\n",
    "from langchain_core.prompts import PromptTemplate\n",
    "from langchain_core.output_parsers import StrOutputParser\n",
    "from langchain_core.runnables import RunnablePassthrough\n",
    "\n",
    "prompt = PromptTemplate.from_template(\n",
    "    \"\"\"You are an assistant for question-answering tasks. \n",
    "Use the following pieces of retrieved context to answer the question. \n",
    "If you don't know the answer, just say that you don't know. \n",
    "Answer in Korean.\n",
    "\n",
    "#Question: \n",
    "{question} \n",
    "#Context: \n",
    "{context} \n",
    "\n",
    "#Answer:\"\"\"\n",
    ")\n",
    "\n",
    "llm = ChatGoogleGenerativeAI(model=\"gemini-1.5-flash\")\n",
    "\n",
    "openai_chain_dict = dict()\n",
    "for vector_store_name in openai_vectorstore_dict.keys():\n",
    "    openai_chain_dict[vector_store_name] = (\n",
    "        {\"context\": openai_vectorstore_dict[vector_store_name], \"question\": RunnablePassthrough()}\n",
    "        | prompt\n",
    "        | llm\n",
    "        | StrOutputParser()\n",
    "    )"
   ]
  },
  {
   "cell_type": "code",
   "execution_count": 63,
   "metadata": {},
   "outputs": [],
   "source": [
    "test_query = \"다음 중 가족 중심 중재(Family-Centered Intervention)에 대한 설명으로 옳은 것은?  \\n1) 가족 중심 중재는 모든 환자에서 동일한 효과를 보인다.  \\n2) 가족 중심 중재는 부작용이 자주 발생한다.  \\n3) 가족 중심 중재는 환자와 가족의 전반적인 건강과 복지를 향상시킬 가능성이 있다.  \\n4) 가족 중심 중재는 신체 건강만을 개선하는 데 초점이 맞춰져 있다.  \\n5) 가족 중심 중재는 연구에서 항상 비뚤림 위험이 없는 것으로 나타났다.\""
   ]
  },
  {
   "cell_type": "code",
   "execution_count": 64,
   "metadata": {},
   "outputs": [
    {
     "name": "stdout",
     "output_type": "stream",
     "text": [
      "정답은 3)입니다.\n",
      "\n",
      "가족 중심 중재는 환자와 가족의 참여를 강조하여, 환자의 치료 및 관리에 가족을 적극적으로 참여시키는 접근 방식입니다.  이를 통해 환자의 전반적인 건강(신체적, 정신적, 사회적)과 가족의 복지 향상을 목표로 합니다.\n",
      "\n",
      "다른 보기들은 모두 옳지 않습니다.\n",
      "\n",
      "* **1) 가족 중심 중재는 모든 환자에서 동일한 효과를 보인다:**  가족 중심 중재의 효과는 환자의 특성, 가족의 역동성, 질병의 종류 등 다양한 요인에 따라 달라집니다.  모든 환자에게 동일한 효과를 보장하지 않습니다.\n",
      "* **2) 가족 중심 중재는 부작용이 자주 발생한다:** 가족 중심 중재 자체에 고유한 부작용이 자주 발생하는 것은 아닙니다.  하지만 가족 내 갈등이 심화되거나, 가족 구성원 간의 역할 분담에 어려움이 발생하는 등의 문제가 발생할 가능성은 있습니다.  이는 중재 과정의 적절한 관리를 통해 최소화할 수 있습니다.\n",
      "* **4) 가족 중심 중재는 신체 건강만을 개선하는 데 초점이 맞춰져 있다:** 가족 중심 중재는 신체적 건강뿐 아니라 정신적, 사회적 건강 및 가족의 전반적인 복지 향상에도 초점을 맞춥니다.\n",
      "* **5) 가족 중심 중재는 연구에서 항상 비뚤림 위험이 없는 것으로 나타났다:** 모든 연구 설계에는 비뚤림(bias)의 위험이 존재하며, 가족 중심 중재 연구도 예외는 아닙니다.  연구 디자인의 질에 따라 비뚤림 위험이 다를 수 있습니다.\n",
      "\n",
      "\n",
      "따라서, 가족 중심 중재의 핵심은 환자와 가족 모두의 삶의 질 향상에 있다는 점을 기억해야 합니다.\n"
     ]
    }
   ],
   "source": [
    "print(llm.invoke(test_query).content)"
   ]
  },
  {
   "cell_type": "code",
   "execution_count": 65,
   "metadata": {},
   "outputs": [
    {
     "name": "stdout",
     "output_type": "stream",
     "text": [
      "제시된 문맥에는 가족 중심 중재(Family-Centered Intervention)에 대한 정보가 없습니다. 따라서 질문에 대한 답을 드릴 수 없습니다.\n"
     ]
    }
   ],
   "source": [
    "print(openai_chain_dict[\"chroma\"].invoke(query))"
   ]
  },
  {
   "cell_type": "code",
   "execution_count": null,
   "metadata": {},
   "outputs": [],
   "source": [
    "import numpy as np\n",
    "import time\n",
    "\n",
    "def cosine_similarity(v1, v2):\n",
    "    return np.dot(v1, v2) / (np.linalg.norm(v1) * np.linalg.norm(v2))\n",
    "\n",
    "result_list = list()\n",
    "\n",
    "for query_doc in tqdm(medical_label_data, desc=\"Cosine Similarity\"):\n",
    "    try:\n",
    "        cos_sim_dict = dict()\n",
    "        cos_sim_dict[\"question\"] = query_doc.page_content\n",
    "        cos_sim_dict[\"answer\"] = {\"truth\": query_doc.metadata[\"answer\"]}\n",
    "        answer_vector = openai_embeddings.embed_query(query_doc.metadata[\"answer\"])\n",
    "        for vector_store_name in openai_vectorstore_dict.keys():\n",
    "            result = openai_chain_dict[vector_store_name].invoke(query_doc.page_content)\n",
    "            cos_sim_dict[\"answer\"][vector_store_name] = result\n",
    "            result_vector = openai_embeddings.embed_query(result)\n",
    "            cos_sim_dict[vector_store_name] = cosine_similarity(answer_vector, result_vector)\n",
    "            time.sleep(2)\n",
    "        result_list.append(cos_sim_dict)\n",
    "        \n",
    "    except Exception as e:\n",
    "        print(f\"Error time sleep 10: {e}\")\n",
    "        time.sleep(10)"
   ]
  },
  {
   "cell_type": "code",
   "execution_count": 17,
   "metadata": {},
   "outputs": [],
   "source": [
    "import pandas as pd"
   ]
  },
  {
   "cell_type": "code",
   "execution_count": 73,
   "metadata": {},
   "outputs": [
    {
     "data": {
      "text/html": [
       "<div>\n",
       "<style scoped>\n",
       "    .dataframe tbody tr th:only-of-type {\n",
       "        vertical-align: middle;\n",
       "    }\n",
       "\n",
       "    .dataframe tbody tr th {\n",
       "        vertical-align: top;\n",
       "    }\n",
       "\n",
       "    .dataframe thead th {\n",
       "        text-align: right;\n",
       "    }\n",
       "</style>\n",
       "<table border=\"1\" class=\"dataframe\">\n",
       "  <thead>\n",
       "    <tr style=\"text-align: right;\">\n",
       "      <th></th>\n",
       "      <th>chroma</th>\n",
       "      <th>qdrant</th>\n",
       "      <th>pinecone</th>\n",
       "      <th>faiss</th>\n",
       "    </tr>\n",
       "  </thead>\n",
       "  <tbody>\n",
       "    <tr>\n",
       "      <th>count</th>\n",
       "      <td>26.000000</td>\n",
       "      <td>26.000000</td>\n",
       "      <td>26.000000</td>\n",
       "      <td>26.000000</td>\n",
       "    </tr>\n",
       "    <tr>\n",
       "      <th>mean</th>\n",
       "      <td>0.568642</td>\n",
       "      <td>0.553952</td>\n",
       "      <td>0.558374</td>\n",
       "      <td>0.507422</td>\n",
       "    </tr>\n",
       "    <tr>\n",
       "      <th>std</th>\n",
       "      <td>0.169875</td>\n",
       "      <td>0.153975</td>\n",
       "      <td>0.156732</td>\n",
       "      <td>0.158276</td>\n",
       "    </tr>\n",
       "    <tr>\n",
       "      <th>min</th>\n",
       "      <td>0.290695</td>\n",
       "      <td>0.303350</td>\n",
       "      <td>0.236171</td>\n",
       "      <td>0.218247</td>\n",
       "    </tr>\n",
       "    <tr>\n",
       "      <th>25%</th>\n",
       "      <td>0.409008</td>\n",
       "      <td>0.408014</td>\n",
       "      <td>0.443251</td>\n",
       "      <td>0.376957</td>\n",
       "    </tr>\n",
       "    <tr>\n",
       "      <th>50%</th>\n",
       "      <td>0.597725</td>\n",
       "      <td>0.575613</td>\n",
       "      <td>0.579380</td>\n",
       "      <td>0.512418</td>\n",
       "    </tr>\n",
       "    <tr>\n",
       "      <th>75%</th>\n",
       "      <td>0.703952</td>\n",
       "      <td>0.672741</td>\n",
       "      <td>0.677039</td>\n",
       "      <td>0.602845</td>\n",
       "    </tr>\n",
       "    <tr>\n",
       "      <th>max</th>\n",
       "      <td>0.823427</td>\n",
       "      <td>0.806550</td>\n",
       "      <td>0.803746</td>\n",
       "      <td>0.784227</td>\n",
       "    </tr>\n",
       "  </tbody>\n",
       "</table>\n",
       "</div>"
      ],
      "text/plain": [
       "          chroma     qdrant   pinecone      faiss\n",
       "count  26.000000  26.000000  26.000000  26.000000\n",
       "mean    0.568642   0.553952   0.558374   0.507422\n",
       "std     0.169875   0.153975   0.156732   0.158276\n",
       "min     0.290695   0.303350   0.236171   0.218247\n",
       "25%     0.409008   0.408014   0.443251   0.376957\n",
       "50%     0.597725   0.575613   0.579380   0.512418\n",
       "75%     0.703952   0.672741   0.677039   0.602845\n",
       "max     0.823427   0.806550   0.803746   0.784227"
      ]
     },
     "execution_count": 73,
     "metadata": {},
     "output_type": "execute_result"
    }
   ],
   "source": [
    "openai_df = pd.DataFrame(result_list)\n",
    "openai_df.describe()"
   ]
  },
  {
   "cell_type": "code",
   "execution_count": 86,
   "metadata": {},
   "outputs": [
    {
     "data": {
      "text/html": [
       "<div>\n",
       "<style scoped>\n",
       "    .dataframe tbody tr th:only-of-type {\n",
       "        vertical-align: middle;\n",
       "    }\n",
       "\n",
       "    .dataframe tbody tr th {\n",
       "        vertical-align: top;\n",
       "    }\n",
       "\n",
       "    .dataframe thead th {\n",
       "        text-align: right;\n",
       "    }\n",
       "</style>\n",
       "<table border=\"1\" class=\"dataframe\">\n",
       "  <thead>\n",
       "    <tr style=\"text-align: right;\">\n",
       "      <th></th>\n",
       "      <th>chroma</th>\n",
       "      <th>qdrant</th>\n",
       "      <th>pinecone</th>\n",
       "      <th>faiss</th>\n",
       "    </tr>\n",
       "  </thead>\n",
       "  <tbody>\n",
       "    <tr>\n",
       "      <th>count</th>\n",
       "      <td>25.000000</td>\n",
       "      <td>25.000000</td>\n",
       "      <td>25.000000</td>\n",
       "      <td>25.000000</td>\n",
       "    </tr>\n",
       "    <tr>\n",
       "      <th>mean</th>\n",
       "      <td>0.741474</td>\n",
       "      <td>0.733462</td>\n",
       "      <td>0.755638</td>\n",
       "      <td>0.734122</td>\n",
       "    </tr>\n",
       "    <tr>\n",
       "      <th>std</th>\n",
       "      <td>0.153393</td>\n",
       "      <td>0.150719</td>\n",
       "      <td>0.150978</td>\n",
       "      <td>0.146167</td>\n",
       "    </tr>\n",
       "    <tr>\n",
       "      <th>min</th>\n",
       "      <td>0.485816</td>\n",
       "      <td>0.485816</td>\n",
       "      <td>0.485816</td>\n",
       "      <td>0.485816</td>\n",
       "    </tr>\n",
       "    <tr>\n",
       "      <th>25%</th>\n",
       "      <td>0.615119</td>\n",
       "      <td>0.620701</td>\n",
       "      <td>0.622831</td>\n",
       "      <td>0.620874</td>\n",
       "    </tr>\n",
       "    <tr>\n",
       "      <th>50%</th>\n",
       "      <td>0.728099</td>\n",
       "      <td>0.728099</td>\n",
       "      <td>0.786662</td>\n",
       "      <td>0.724677</td>\n",
       "    </tr>\n",
       "    <tr>\n",
       "      <th>75%</th>\n",
       "      <td>0.856574</td>\n",
       "      <td>0.843225</td>\n",
       "      <td>0.874281</td>\n",
       "      <td>0.839906</td>\n",
       "    </tr>\n",
       "    <tr>\n",
       "      <th>max</th>\n",
       "      <td>0.965827</td>\n",
       "      <td>0.965827</td>\n",
       "      <td>0.969915</td>\n",
       "      <td>0.965827</td>\n",
       "    </tr>\n",
       "  </tbody>\n",
       "</table>\n",
       "</div>"
      ],
      "text/plain": [
       "          chroma     qdrant   pinecone      faiss\n",
       "count  25.000000  25.000000  25.000000  25.000000\n",
       "mean    0.741474   0.733462   0.755638   0.734122\n",
       "std     0.153393   0.150719   0.150978   0.146167\n",
       "min     0.485816   0.485816   0.485816   0.485816\n",
       "25%     0.615119   0.620701   0.622831   0.620874\n",
       "50%     0.728099   0.728099   0.786662   0.724677\n",
       "75%     0.856574   0.843225   0.874281   0.839906\n",
       "max     0.965827   0.965827   0.969915   0.965827"
      ]
     },
     "execution_count": 86,
     "metadata": {},
     "output_type": "execute_result"
    }
   ],
   "source": [
    "google_df = pd.DataFrame(result_list)\n",
    "google_df.describe()"
   ]
  },
  {
   "cell_type": "code",
   "execution_count": 18,
   "metadata": {},
   "outputs": [
    {
     "data": {
      "text/html": [
       "<div>\n",
       "<style scoped>\n",
       "    .dataframe tbody tr th:only-of-type {\n",
       "        vertical-align: middle;\n",
       "    }\n",
       "\n",
       "    .dataframe tbody tr th {\n",
       "        vertical-align: top;\n",
       "    }\n",
       "\n",
       "    .dataframe thead th {\n",
       "        text-align: right;\n",
       "    }\n",
       "</style>\n",
       "<table border=\"1\" class=\"dataframe\">\n",
       "  <thead>\n",
       "    <tr style=\"text-align: right;\">\n",
       "      <th></th>\n",
       "      <th>chroma</th>\n",
       "      <th>qdrant</th>\n",
       "      <th>pinecone</th>\n",
       "      <th>faiss</th>\n",
       "    </tr>\n",
       "  </thead>\n",
       "  <tbody>\n",
       "    <tr>\n",
       "      <th>count</th>\n",
       "      <td>25.000000</td>\n",
       "      <td>25.000000</td>\n",
       "      <td>25.000000</td>\n",
       "      <td>25.000000</td>\n",
       "    </tr>\n",
       "    <tr>\n",
       "      <th>mean</th>\n",
       "      <td>0.586440</td>\n",
       "      <td>0.588754</td>\n",
       "      <td>0.589068</td>\n",
       "      <td>0.537388</td>\n",
       "    </tr>\n",
       "    <tr>\n",
       "      <th>std</th>\n",
       "      <td>0.194048</td>\n",
       "      <td>0.193388</td>\n",
       "      <td>0.192575</td>\n",
       "      <td>0.195094</td>\n",
       "    </tr>\n",
       "    <tr>\n",
       "      <th>min</th>\n",
       "      <td>0.125139</td>\n",
       "      <td>0.121635</td>\n",
       "      <td>0.125139</td>\n",
       "      <td>0.121635</td>\n",
       "    </tr>\n",
       "    <tr>\n",
       "      <th>25%</th>\n",
       "      <td>0.486502</td>\n",
       "      <td>0.485706</td>\n",
       "      <td>0.494870</td>\n",
       "      <td>0.406723</td>\n",
       "    </tr>\n",
       "    <tr>\n",
       "      <th>50%</th>\n",
       "      <td>0.585054</td>\n",
       "      <td>0.608898</td>\n",
       "      <td>0.587357</td>\n",
       "      <td>0.515398</td>\n",
       "    </tr>\n",
       "    <tr>\n",
       "      <th>75%</th>\n",
       "      <td>0.735700</td>\n",
       "      <td>0.753549</td>\n",
       "      <td>0.736110</td>\n",
       "      <td>0.671875</td>\n",
       "    </tr>\n",
       "    <tr>\n",
       "      <th>max</th>\n",
       "      <td>0.870110</td>\n",
       "      <td>0.866067</td>\n",
       "      <td>0.866287</td>\n",
       "      <td>0.860436</td>\n",
       "    </tr>\n",
       "  </tbody>\n",
       "</table>\n",
       "</div>"
      ],
      "text/plain": [
       "          chroma     qdrant   pinecone      faiss\n",
       "count  25.000000  25.000000  25.000000  25.000000\n",
       "mean    0.586440   0.588754   0.589068   0.537388\n",
       "std     0.194048   0.193388   0.192575   0.195094\n",
       "min     0.125139   0.121635   0.125139   0.121635\n",
       "25%     0.486502   0.485706   0.494870   0.406723\n",
       "50%     0.585054   0.608898   0.587357   0.515398\n",
       "75%     0.735700   0.753549   0.736110   0.671875\n",
       "max     0.870110   0.866067   0.866287   0.860436"
      ]
     },
     "execution_count": 18,
     "metadata": {},
     "output_type": "execute_result"
    }
   ],
   "source": [
    "hug_df = pd.DataFrame(result_list)\n",
    "hug_df.describe()"
   ]
  },
  {
   "cell_type": "code",
   "execution_count": 91,
   "metadata": {},
   "outputs": [],
   "source": [
    "import matplotlib.pyplot as plt\n"
   ]
  },
  {
   "cell_type": "code",
   "execution_count": 94,
   "metadata": {},
   "outputs": [
    {
     "data": {
      "text/plain": [
       "<Figure size 1000x500 with 0 Axes>"
      ]
     },
     "metadata": {},
     "output_type": "display_data"
    },
    {
     "data": {
      "image/png": "[encoded data removed]",
      "text/plain": [
       "<Figure size 640x480 with 4 Axes>"
      ]
     },
     "metadata": {},
     "output_type": "display_data"
    }
   ],
   "source": [
    "plt.figure(figsize=(10, 5))\n",
    "google_df.hist()\n",
    "plt.show()"
   ]
  },
  {
   "cell_type": "code",
   "execution_count": 95,
   "metadata": {},
   "outputs": [
    {
     "data": {
      "text/plain": [
       "<Figure size 1000x500 with 0 Axes>"
      ]
     },
     "metadata": {},
     "output_type": "display_data"
    },
    {
     "data": {
      "image/png": "[encoded data removed]",
      "text/plain": [
       "<Figure size 640x480 with 4 Axes>"
      ]
     },
     "metadata": {},
     "output_type": "display_data"
    }
   ],
   "source": [
    "plt.figure(figsize=(10, 5))\n",
    "openai_df.hist()\n",
    "plt.show()"
   ]
  },
  {
   "cell_type": "code",
   "execution_count": null,
   "metadata": {},
   "outputs": [],
   "source": []
  }
 ],
 "metadata": {
  "kernelspec": {
   "display_name": ".venv",
   "language": "python",
   "name": "python3"
  },
  "language_info": {
   "codemirror_mode": {
    "name": "ipython",
    "version": 3
   },
   "file_extension": ".py",
   "mimetype": "text/x-python",
   "name": "python",
   "nbconvert_exporter": "python",
   "pygments_lexer": "ipython3",
   "version": "3.12.10"
  }
 },
 "nbformat": 4,
 "nbformat_minor": 2
}
